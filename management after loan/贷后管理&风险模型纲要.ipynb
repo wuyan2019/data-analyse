{
 "cells": [
  {
   "cell_type": "markdown",
   "metadata": {},
   "source": [
    "# 贷后风险管理笔记\n",
    "## 1.客户逾期类型与相应策略\n",
    "严重度|意愿|能力|手段\n",
    ":-|:-|:-|:-\n",
    "1|有|有|短信/邮件提醒\n",
    "2|有|无|展期等\n",
    "3|无|有|电话、联系人施压等\n",
    "4|无|无|最强手段、资产转卖等"
   ]
  },
  {
   "cell_type": "markdown",
   "metadata": {},
   "source": [
    "## 2.逾期期数&催收手段\n",
    "序号|天数|手段\n",
    ":-|:-|:-\n",
    "1|7-15|短信\n",
    "2|30+|电话\n",
    "3|90+|实地催收\n",
    "4|more|法院\n",
    "5|more and more |资产打包"
   ]
  },
  {
   "cell_type": "markdown",
   "metadata": {},
   "source": [
    "## 3.贷后模型体系\n",
    "### 3.1 还款率预测模型\n",
    "> 需要注意的是该模型预测的是客户经过催收后的还款率：还款率=催收回款/(所欠本金+利息+催收成本)\n",
    "\n",
    "* 预测目标：还款率\n",
    "* 常用变量：逾期时长、历史还款情况、个人信息、借款与收入比例（bdr）、联系人信息等\n",
    "* 常用模型：随机森林、线性回归、神经网络等回归模型"
   ]
  },
  {
   "cell_type": "markdown",
   "metadata": {},
   "source": [
    "### 3.2帐龄滚动模型\n",
    "> 预测客户帐龄迁移情况，例如M0滚动到M1的概率等\n",
    "\n",
    "* 预测目标：账龄滚动概率\n",
    "* 常用变量：逾期时长、历史还款情况、个人信息、借款与收入比例（bdr）、联系人信息等\n",
    "* 常用模型：随机森林、线性回归、神经网络等回归模型"
   ]
  },
  {
   "cell_type": "markdown",
   "metadata": {},
   "source": [
    "### 3.3失联预测模型\n",
    "> 预测客户未来是否可能失联\n",
    "\n",
    "* 预测目标：未来失联概率或者是否失联\n",
    "* 常用变量：逾期时长、历史还款情况、个人信息(工作、收入情况等)、联系人信息、运营商信息、逾期金额占比等\n",
    "* 常用模型：随机森林、logistic回归等有监督模型，或者生存模型(cox比例风险模型)"
   ]
  },
  {
   "cell_type": "code",
   "execution_count": null,
   "metadata": {
    "collapsed": true
   },
   "outputs": [],
   "source": []
  }
 ],
 "metadata": {
  "kernelspec": {
   "display_name": "Python 3",
   "language": "python",
   "name": "python3"
  },
  "language_info": {
   "codemirror_mode": {
    "name": "ipython",
    "version": 3
   },
   "file_extension": ".py",
   "mimetype": "text/x-python",
   "name": "python",
   "nbconvert_exporter": "python",
   "pygments_lexer": "ipython3",
   "version": "3.6.0"
  }
 },
 "nbformat": 4,
 "nbformat_minor": 2
}
