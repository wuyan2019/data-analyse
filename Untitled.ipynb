{
 "cells": [
  {
   "cell_type": "markdown",
   "metadata": {},
   "source": [
    "# 手把手教你读财报\n",
    "\n",
    "\n",
    "\n",
    "## 资产负债表\n",
    "\n",
    "\n",
    "### 货币资金\n",
    "\n",
    "* “货币资金”只需关注合并报表数据"
   ]
  },
  {
   "cell_type": "code",
   "execution_count": 2,
   "metadata": {},
   "outputs": [
    {
     "name": "stdout",
     "output_type": "stream",
     "text": [
      "/data/v1/api/fundamental/getFdmtBs2018.json?ticker=600519&secID=&beginDate=20120101&endDate=20191231&publishDateBegin=&publishDateEnd=&reportType=A&field=endDate,cashCEquiv,mergedFlag,tShEquity,stBorr,ltBorr\n"
     ]
    }
   ],
   "source": [
    "# 示例代码，过程有所省略\n",
    "from dataapi_win36 import Client\n",
    "from pathlib import Path\n",
    "import pandas as pd\n",
    "from pylab import *\n",
    "from matplotlib.font_manager import FontProperties  \n",
    "import matplotlib.pyplot as plt  \n",
    "\n",
    "#将数据整理的函数进行封装便于调用\n",
    "def get_data(url):\n",
    "    code, result = client.getData(url)\n",
    "    df = pd.DataFrame(eval(result)['data'])\n",
    "    df=df[df['mergedFlag']=='2']\n",
    "    df = df[df['endDate'].str.contains('-12-31')]\n",
    "    df.drop_duplicates(keep='last', inplace=True) \n",
    "    df= df.sort_values(by = 'endDate')\n",
    "    df=df.reset_index(drop=True)\n",
    "    return df\n",
    "\n",
    "# 获取13-18年茅台的货币资金的数据\n",
    "cashCEquiv_url = '/api/fundamental/getFdmtBs2018.json?ticker=600519&secID=&beginDate=20120101&\\\n",
    "endDate=20191231&publishDateBegin=&publishDateEnd=&reportType=A&field=endDate,cashCEquiv,mergedFlag,tShEquity,stBorr,ltBorr'\n",
    "cashCEquiv_df = get_data(cashCEquiv_url)"
   ]
  },
  {
   "cell_type": "code",
   "execution_count": 3,
   "metadata": {
    "scrolled": true
   },
   "outputs": [
    {
     "name": "stderr",
     "output_type": "stream",
     "text": [
      "C:\\Users\\moka\\Anaconda3\\lib\\site-packages\\ipykernel_launcher.py:4: SettingWithCopyWarning: \n",
      "A value is trying to be set on a copy of a slice from a DataFrame\n",
      "\n",
      "See the caveats in the documentation: http://pandas.pydata.org/pandas-docs/stable/indexing.html#indexing-view-versus-copy\n",
      "  after removing the cwd from sys.path.\n"
     ]
    }
   ],
   "source": [
    "#添加一列，记录货币资金期初期末的差值\n",
    "cashCEquiv_df['cashCEquiv_D']= cashCEquiv_df['cashCEquiv']\n",
    "for i in range (1,len(cashCEquiv_df['cashCEquiv'])):\n",
    "    cashCEquiv_df['cashCEquiv_D'][i]=cashCEquiv_df['cashCEquiv'][i]-cashCEquiv_df['cashCEquiv'][i-1]\n",
    "#重命名方便之后查看\n",
    "cashCEquiv_df.rename(columns={'cashCEquiv':'货币资金',\n",
    "                              'mergedFlag':'合并报表标识',\n",
    "                              'tShEquity':'净资产',\n",
    "                              'stBorr':'短期借款',\n",
    "                              'cashCEquiv_D':'货币资金和上年度差值'},inplace=True) "
   ]
  },
  {
   "cell_type": "markdown",
   "metadata": {},
   "source": [
    "* “货币资金”项目会暴露的投资陷阱\n",
    "\n",
    "对公司而言，通常有三种途径可以产生货币资金。①发售股票或举债；②出售资产或业务部门；③经营活动的现金流入持续大于现金流出。符合第三种情况的公司，通常都具有某种持续性竞争优势。\n",
    "\n",
    "* 货币资金过小，则可能代表偿债能力不足，或者经营中捉襟见肘。货币资金过大，则代表资金运用能力较弱，或者可能资金性质有问题。\n",
    "\n",
    "依据以上原则，实践中投资者要注意以下四种情况：\n",
    "1. 货币资金余额比短期负债小很多\n",
    "2. 货币资金充裕，却借了很多有息甚至高息负债\n",
    "3. 定期存款很多，其他货币资金很多，流动资金却严重缺乏\n",
    "4. 他货币资金数额巨大，但没有合理解释\n",
    "\n",
    "正所谓“事有反常必为妖”。以上状态中，情形（1）可能代表公司有短期偿债危机，情形（2）（3）（4）则意味着貌似充裕的货币资金，可能存在虚构、冻结，或者早就被大股东占用，只是在报表日前几天回到公司账上，过后又会消失。这几条，都是老唐排除公司的重要准则。"
   ]
  },
  {
   "cell_type": "code",
   "execution_count": 4,
   "metadata": {
    "scrolled": true
   },
   "outputs": [
    {
     "data": {
      "text/plain": [
       "<matplotlib.axes._subplots.AxesSubplot at 0x1e9a37160b8>"
      ]
     },
     "execution_count": 4,
     "metadata": {},
     "output_type": "execute_result"
    },
    {
     "data": {
      "image/png": "[encoded data removed]",
      "text/plain": [
       "<Figure size 432x288 with 1 Axes>"
      ]
     },
     "metadata": {
      "needs_background": "light"
     },
     "output_type": "display_data"
    }
   ],
   "source": [
    " #绘制12-19茅台货币资金变化图（以货币资金，货币资金变化，净资产为维度）\n",
    "mpl.rcParams['font.sans-serif'] = ['SimHei']\n",
    "cashCEquiv_df['endDate'] = pd.to_datetime(cashCEquiv_df['endDate'])\n",
    "cashCEquiv_df.set_index('endDate',inplace=True)\n",
    "cashCEquiv_df[['货币资金','货币资金和上年度差值','净资产']].plot()"
   ]
  },
  {
   "cell_type": "code",
   "execution_count": 5,
   "metadata": {},
   "outputs": [
    {
     "data": {
      "text/html": [
       "<div>\n",
       "<style scoped>\n",
       "    .dataframe tbody tr th:only-of-type {\n",
       "        vertical-align: middle;\n",
       "    }\n",
       "\n",
       "    .dataframe tbody tr th {\n",
       "        vertical-align: top;\n",
       "    }\n",
       "\n",
       "    .dataframe thead th {\n",
       "        text-align: right;\n",
       "    }\n",
       "</style>\n",
       "<table border=\"1\" class=\"dataframe\">\n",
       "  <thead>\n",
       "    <tr style=\"text-align: right;\">\n",
       "      <th></th>\n",
       "      <th>货币资金</th>\n",
       "      <th>合并报表标识</th>\n",
       "      <th>短期借款</th>\n",
       "      <th>净资产</th>\n",
       "      <th>货币资金和上年度差值</th>\n",
       "    </tr>\n",
       "    <tr>\n",
       "      <th>endDate</th>\n",
       "      <th></th>\n",
       "      <th></th>\n",
       "      <th></th>\n",
       "      <th></th>\n",
       "      <th></th>\n",
       "    </tr>\n",
       "  </thead>\n",
       "  <tbody>\n",
       "    <tr>\n",
       "      <th>2012-12-31</th>\n",
       "      <td>2.346119e+09</td>\n",
       "      <td>2</td>\n",
       "      <td>NaN</td>\n",
       "      <td>1.876257e+10</td>\n",
       "      <td>2.346119e+09</td>\n",
       "    </tr>\n",
       "    <tr>\n",
       "      <th>2013-12-31</th>\n",
       "      <td>1.176753e+10</td>\n",
       "      <td>2</td>\n",
       "      <td>NaN</td>\n",
       "      <td>2.394218e+10</td>\n",
       "      <td>9.421415e+09</td>\n",
       "    </tr>\n",
       "    <tr>\n",
       "      <th>2014-12-31</th>\n",
       "      <td>1.070530e+10</td>\n",
       "      <td>2</td>\n",
       "      <td>NaN</td>\n",
       "      <td>2.968722e+10</td>\n",
       "      <td>-1.062230e+09</td>\n",
       "    </tr>\n",
       "    <tr>\n",
       "      <th>2015-12-31</th>\n",
       "      <td>1.505296e+10</td>\n",
       "      <td>2</td>\n",
       "      <td>NaN</td>\n",
       "      <td>3.430329e+10</td>\n",
       "      <td>4.347659e+09</td>\n",
       "    </tr>\n",
       "    <tr>\n",
       "      <th>2016-12-31</th>\n",
       "      <td>1.651317e+10</td>\n",
       "      <td>2</td>\n",
       "      <td>NaN</td>\n",
       "      <td>3.580255e+10</td>\n",
       "      <td>1.460205e+09</td>\n",
       "    </tr>\n",
       "    <tr>\n",
       "      <th>2017-12-31</th>\n",
       "      <td>1.553456e+10</td>\n",
       "      <td>2</td>\n",
       "      <td>NaN</td>\n",
       "      <td>3.807619e+10</td>\n",
       "      <td>-9.786091e+08</td>\n",
       "    </tr>\n",
       "    <tr>\n",
       "      <th>2018-12-31</th>\n",
       "      <td>3.070350e+10</td>\n",
       "      <td>2</td>\n",
       "      <td>NaN</td>\n",
       "      <td>7.654553e+10</td>\n",
       "      <td>1.516894e+10</td>\n",
       "    </tr>\n",
       "    <tr>\n",
       "      <th>2019-12-31</th>\n",
       "      <td>4.079184e+10</td>\n",
       "      <td>2</td>\n",
       "      <td>NaN</td>\n",
       "      <td>8.979645e+10</td>\n",
       "      <td>1.008834e+10</td>\n",
       "    </tr>\n",
       "  </tbody>\n",
       "</table>\n",
       "</div>"
      ],
      "text/plain": [
       "                    货币资金 合并报表标识  短期借款           净资产    货币资金和上年度差值\n",
       "endDate                                                          \n",
       "2012-12-31  2.346119e+09      2   NaN  1.876257e+10  2.346119e+09\n",
       "2013-12-31  1.176753e+10      2   NaN  2.394218e+10  9.421415e+09\n",
       "2014-12-31  1.070530e+10      2   NaN  2.968722e+10 -1.062230e+09\n",
       "2015-12-31  1.505296e+10      2   NaN  3.430329e+10  4.347659e+09\n",
       "2016-12-31  1.651317e+10      2   NaN  3.580255e+10  1.460205e+09\n",
       "2017-12-31  1.553456e+10      2   NaN  3.807619e+10 -9.786091e+08\n",
       "2018-12-31  3.070350e+10      2   NaN  7.654553e+10  1.516894e+10\n",
       "2019-12-31  4.079184e+10      2   NaN  8.979645e+10  1.008834e+10"
      ]
     },
     "execution_count": 5,
     "metadata": {},
     "output_type": "execute_result"
    }
   ],
   "source": [
    "cashCEquiv_df"
   ]
  },
  {
   "cell_type": "markdown",
   "metadata": {},
   "source": [
    "* 茅台公司，没有有息负债（财务公司吸收存款，而后存入其他金融机构赚息差的钱，可以不算有息负债）；经营活动中持续产生大量现金流入；投资计划加分红计划，累计不超过百亿；账上保留着超过200亿现金及现金等价物，属于典型的资金运用能力低下。这可以视为公司价值评估中的扣分项"
   ]
  },
  {
   "cell_type": "markdown",
   "metadata": {},
   "source": [
    "### 经营相关资产\n",
    "\n",
    "* 市场因分工和交换而产生。一家企业在市场中生存，必然会通过商业活动和其他单位或个人发生往来。这些往来，要么现钱现货，要么以应收票据和应收账款形式存在。前者产生现金流，后者产生应收应付。这是营业收入与现金流入、应收票据应收账款之间的关系。"
   ]
  },
  {
   "cell_type": "code",
   "execution_count": 11,
   "metadata": {},
   "outputs": [
    {
     "name": "stdout",
     "output_type": "stream",
     "text": [
      "/data/v1/api/fundamental/getFdmtBs2018.json?ticker=600519&secID=&beginDate=20120101&endDate=20191231&publishDateBegin=&publishDateEnd=&reportType=A&field=endDate,mergedFlag,notesReceiv,ar,prepayment,othPayableTotal,othReceivTotal,inventories\n"
     ]
    }
   ],
   "source": [
    "# 获取13-18年茅台的应收票据、预付账款、应收账款、其他应付款合计、其他应收款合计\n",
    "operating_url = '/api/fundamental/getFdmtBs2018.json?ticker=600519&secID=&beginDate=20120101&endDate=20191231\\\n",
    "&publishDateBegin=&publishDateEnd=&reportType=A&field=endDate,mergedFlag,notesReceiv,ar,prepayment,othPayableTotal,othReceivTotal,inventories'\n",
    "operating_df = get_data(operating_url)"
   ]
  },
  {
   "cell_type": "markdown",
   "metadata": {},
   "source": [
    "1. 应收票据\n",
    "    * 茅台公司的应收票据全部由银行承兑汇票组成，证明企业地位强势，产品抢手。反之，如果里面有大量的商业承兑汇票，则说明企业采用相对宽松的销售政策。如果企业的应收票据一直是由银行承兑汇票组成，某年商业承兑汇票突然大量增加，就证明企业的产品或服务的销售遇到了困难，开始放松销售政策。\n",
    "\n",
    "2. 应收账款\n",
    "\n",
    "    * 如果一家企业应收账款大幅增长，增长幅度超过同期收入增长，应收账款回款速度低于行业平均水平，或呈现明显下降趋势，往往预示着两种可能：公司临时放宽了信用政策，加大赊销力度；或公司提前确认收入甚至虚构收入。\n",
    "\n",
    "    * 坏账准备是需要从当年利润里减去的。计提越少，意味着企业当年将会产生出更多的“利润”。如果你关心企业利润的质量，那就必须关心公司的计提标准。一般来说，计提标准越严格的公司越值得信赖。\n",
    "    \n",
    "    \n",
    "3. 预付账款\n",
    "\n",
    "    * 一家公司，如果经常需要预付大量款项给供应商，一般说明企业在整个商业生态链上地位不高或信用不好。预付款，无论是针对在建工程的预付款，还是给供应商的预付款，都可能成为企业造假的重要资金出口。当你发现公司预付账款大幅增长，尤其是预付工程款或预付一些专利技术或非专利技术的采购款大幅增长，则企业很可能是通过预付款流出资金，然后以营业收入的面孔，将资金重新流回公司虚增利润。\n",
    "\n",
    "4. 其他应收款\n",
    "\n",
    "    * 优秀上市公司有个特点，就是“其他应收款”和“其他应付款”科目涉及金额极小，甚至为零。投资者如果发现这个科目的数字比较大，可以先抱着公司经营不够规范的初步印象来看财报。\n",
    "    \n",
    "\n",
    "5. 存货\n",
    "\n",
    "    * 上市公司通常按照成本和可变现净值中较低者计算存货价值。也有些公司，为虚增当期利润，故意不对已经贬值的存货计提跌价准备，减少当期费用。因此，如果一个行业的存货有贬值特性，投资者就需要了解同行业其他公司对存货计提跌价准备的标准，再与自己关注的公司进行比对，以衡量公司存货价值的真实性。\n",
    "    \n",
    "    * 除了应该计提跌价准备而不计提之外，与存货有关、容易出问题的地方还有两种：一是通过虚构商品采购流出资金，再将资金流回企业、虚增利润；二是通过加大生产，降低单位产品的成本，从而欺诈性地提升毛利率，虚增本期利润。"
   ]
  },
  {
   "cell_type": "code",
   "execution_count": 12,
   "metadata": {},
   "outputs": [
    {
     "name": "stdout",
     "output_type": "stream",
     "text": [
      "/data/v1/api/fundamental/getFdmtIS2018.json?ticker=600519&secID=&beginDate=20120101&endDate=20191231&publishDateBegin=&publishDateEnd=&reportType=A&field=endDate,mergedFlag,revenue,cogs\n"
     ]
    }
   ],
   "source": [
    "# 获取13-18年茅台的营业成本、营业收入，结合存货进行分析\n",
    "cogs_url = '/api/fundamental/getFdmtIS2018.json?ticker=600519&secID=&beginDate=20120101&endDate=20191231\\\n",
    "&publishDateBegin=&publishDateEnd=&reportType=A&field=endDate,mergedFlag,revenue,cogs'\n",
    "cogs_df = get_data(cogs_url)"
   ]
  },
  {
   "cell_type": "code",
   "execution_count": 15,
   "metadata": {},
   "outputs": [
    {
     "data": {
      "image/png": "[encoded data removed]",
      "text/plain": [
       "<Figure size 432x288 with 1 Axes>"
      ]
     },
     "metadata": {
      "needs_background": "light"
     },
     "output_type": "display_data"
    }
   ],
   "source": [
    "#将营业相关数据和经营资产数据合并，并修改成中文名\n",
    "operating_df = pd.merge(operating_df,cogs_df,how ='left')\n",
    "operating_df['endDate'] = pd.to_datetime(operating_df['endDate'])\n",
    "operating_df.set_index('endDate',inplace=True)\n",
    "operating_df.rename(columns={'ar':'应收账款',\n",
    "                        'mergedFlag':'合并报表标识',\n",
    "                        'inventories':'存货',\n",
    "                        'othPayableTotal':'其他应付款(合计)',\n",
    "                        'prepayment':'预付款项',\n",
    "                        'cogs':'营业成本',\n",
    "                        'notesReceiv':'应收票据',\n",
    "                        'revenue':'营业收入'},inplace=True) \n",
    "operating_df['毛利率']=(operating_df['营业收入']-operating_df['营业成本'])/operating_df['营业收入']\n",
    "# 毛利率过小，新增一列便于比较\n",
    "operating_df['计算毛利率']=operating_df['毛利率']*10000000000\n",
    "# 分析存货的情况\n",
    "mpl.rcParams['font.sans-serif'] = ['SimHei']\n",
    "operating_df[['存货','计算毛利率','营业成本']].plot()\n",
    "plt.title('存货、成本和毛利率')\n",
    "plt.legend()\n",
    "plt.show()"
   ]
  },
  {
   "cell_type": "code",
   "execution_count": 18,
   "metadata": {},
   "outputs": [
    {
     "data": {
      "image/png": "[encoded data removed]",
      "text/plain": [
       "<Figure size 432x288 with 1 Axes>"
      ]
     },
     "metadata": {
      "needs_background": "light"
     },
     "output_type": "display_data"
    }
   ],
   "source": [
    "# 分析应收账款等的情况\n",
    "mpl.rcParams['font.sans-serif'] = ['SimHei']\n",
    "operating_df[['应收账款','预付款项','营业收入']].plot()\n",
    "plt.title('应收账款、预付账款和营业收入')\n",
    "plt.legend()\n",
    "plt.show()"
   ]
  },
  {
   "cell_type": "code",
   "execution_count": 16,
   "metadata": {},
   "outputs": [
    {
     "data": {
      "text/html": [
       "<div>\n",
       "<style scoped>\n",
       "    .dataframe tbody tr th:only-of-type {\n",
       "        vertical-align: middle;\n",
       "    }\n",
       "\n",
       "    .dataframe tbody tr th {\n",
       "        vertical-align: top;\n",
       "    }\n",
       "\n",
       "    .dataframe thead th {\n",
       "        text-align: right;\n",
       "    }\n",
       "</style>\n",
       "<table border=\"1\" class=\"dataframe\">\n",
       "  <thead>\n",
       "    <tr style=\"text-align: right;\">\n",
       "      <th></th>\n",
       "      <th>应收账款</th>\n",
       "      <th>存货</th>\n",
       "      <th>合并报表标识</th>\n",
       "      <th>应收票据</th>\n",
       "      <th>其他应付款(合计)</th>\n",
       "      <th>othReceivTotal</th>\n",
       "      <th>预付款项</th>\n",
       "      <th>营业成本</th>\n",
       "      <th>营业收入</th>\n",
       "      <th>毛利率</th>\n",
       "      <th>计算毛利率</th>\n",
       "    </tr>\n",
       "    <tr>\n",
       "      <th>endDate</th>\n",
       "      <th></th>\n",
       "      <th></th>\n",
       "      <th></th>\n",
       "      <th></th>\n",
       "      <th></th>\n",
       "      <th></th>\n",
       "      <th></th>\n",
       "      <th></th>\n",
       "      <th></th>\n",
       "      <th></th>\n",
       "      <th></th>\n",
       "    </tr>\n",
       "  </thead>\n",
       "  <tbody>\n",
       "    <tr>\n",
       "      <th>2012-12-31</th>\n",
       "      <td>7.405845e+08</td>\n",
       "      <td>9.290745e+09</td>\n",
       "      <td>2</td>\n",
       "      <td>NaN</td>\n",
       "      <td>6.462247e+08</td>\n",
       "      <td>1.383273e+08</td>\n",
       "      <td>3.487544e+09</td>\n",
       "      <td>1.989734e+09</td>\n",
       "      <td>6.256302e+09</td>\n",
       "      <td>0.681963</td>\n",
       "      <td>6.819633e+09</td>\n",
       "    </tr>\n",
       "    <tr>\n",
       "      <th>2013-12-31</th>\n",
       "      <td>1.729192e+06</td>\n",
       "      <td>1.157139e+10</td>\n",
       "      <td>2</td>\n",
       "      <td>NaN</td>\n",
       "      <td>6.788008e+08</td>\n",
       "      <td>1.401796e+08</td>\n",
       "      <td>4.034784e+09</td>\n",
       "      <td>2.131716e+09</td>\n",
       "      <td>6.614690e+09</td>\n",
       "      <td>0.677730</td>\n",
       "      <td>6.777300e+09</td>\n",
       "    </tr>\n",
       "    <tr>\n",
       "      <th>2014-12-31</th>\n",
       "      <td>1.481305e+08</td>\n",
       "      <td>1.480437e+10</td>\n",
       "      <td>2</td>\n",
       "      <td>NaN</td>\n",
       "      <td>5.872835e+08</td>\n",
       "      <td>3.277489e+08</td>\n",
       "      <td>2.747512e+09</td>\n",
       "      <td>2.281305e+09</td>\n",
       "      <td>6.878165e+09</td>\n",
       "      <td>0.668327</td>\n",
       "      <td>6.683265e+09</td>\n",
       "    </tr>\n",
       "    <tr>\n",
       "      <th>2015-12-31</th>\n",
       "      <td>1.622001e+08</td>\n",
       "      <td>1.747756e+10</td>\n",
       "      <td>2</td>\n",
       "      <td>NaN</td>\n",
       "      <td>6.765692e+08</td>\n",
       "      <td>5.326993e+08</td>\n",
       "      <td>1.274390e+09</td>\n",
       "      <td>2.938707e+09</td>\n",
       "      <td>8.843334e+09</td>\n",
       "      <td>0.667692</td>\n",
       "      <td>6.676924e+09</td>\n",
       "    </tr>\n",
       "    <tr>\n",
       "      <th>2016-12-31</th>\n",
       "      <td>5.290710e+08</td>\n",
       "      <td>1.954301e+10</td>\n",
       "      <td>2</td>\n",
       "      <td>1380240.0</td>\n",
       "      <td>6.785266e+08</td>\n",
       "      <td>7.705940e+08</td>\n",
       "      <td>8.246171e+08</td>\n",
       "      <td>4.012955e+09</td>\n",
       "      <td>1.289781e+10</td>\n",
       "      <td>0.688865</td>\n",
       "      <td>6.888654e+09</td>\n",
       "    </tr>\n",
       "    <tr>\n",
       "      <th>2017-12-31</th>\n",
       "      <td>5.259884e+09</td>\n",
       "      <td>2.125224e+10</td>\n",
       "      <td>2</td>\n",
       "      <td>NaN</td>\n",
       "      <td>7.454475e+08</td>\n",
       "      <td>8.173143e+08</td>\n",
       "      <td>6.955102e+08</td>\n",
       "      <td>5.579815e+09</td>\n",
       "      <td>2.192229e+10</td>\n",
       "      <td>0.745473</td>\n",
       "      <td>7.454729e+09</td>\n",
       "    </tr>\n",
       "    <tr>\n",
       "      <th>2018-12-31</th>\n",
       "      <td>8.070883e+09</td>\n",
       "      <td>2.263781e+10</td>\n",
       "      <td>2</td>\n",
       "      <td>NaN</td>\n",
       "      <td>7.002763e+08</td>\n",
       "      <td>9.175329e+08</td>\n",
       "      <td>1.134613e+09</td>\n",
       "      <td>6.715599e+09</td>\n",
       "      <td>2.580316e+10</td>\n",
       "      <td>0.739737</td>\n",
       "      <td>7.397373e+09</td>\n",
       "    </tr>\n",
       "    <tr>\n",
       "      <th>2019-12-31</th>\n",
       "      <td>8.188547e+09</td>\n",
       "      <td>2.443275e+10</td>\n",
       "      <td>2</td>\n",
       "      <td>NaN</td>\n",
       "      <td>8.680635e+08</td>\n",
       "      <td>6.406076e+08</td>\n",
       "      <td>1.519286e+09</td>\n",
       "      <td>7.444023e+09</td>\n",
       "      <td>2.776653e+10</td>\n",
       "      <td>0.731907</td>\n",
       "      <td>7.319067e+09</td>\n",
       "    </tr>\n",
       "  </tbody>\n",
       "</table>\n",
       "</div>"
      ],
      "text/plain": [
       "                    应收账款            存货 合并报表标识       应收票据     其他应付款(合计)  \\\n",
       "endDate                                                                  \n",
       "2012-12-31  7.405845e+08  9.290745e+09      2        NaN  6.462247e+08   \n",
       "2013-12-31  1.729192e+06  1.157139e+10      2        NaN  6.788008e+08   \n",
       "2014-12-31  1.481305e+08  1.480437e+10      2        NaN  5.872835e+08   \n",
       "2015-12-31  1.622001e+08  1.747756e+10      2        NaN  6.765692e+08   \n",
       "2016-12-31  5.290710e+08  1.954301e+10      2  1380240.0  6.785266e+08   \n",
       "2017-12-31  5.259884e+09  2.125224e+10      2        NaN  7.454475e+08   \n",
       "2018-12-31  8.070883e+09  2.263781e+10      2        NaN  7.002763e+08   \n",
       "2019-12-31  8.188547e+09  2.443275e+10      2        NaN  8.680635e+08   \n",
       "\n",
       "            othReceivTotal          预付款项          营业成本          营业收入  \\\n",
       "endDate                                                                \n",
       "2012-12-31    1.383273e+08  3.487544e+09  1.989734e+09  6.256302e+09   \n",
       "2013-12-31    1.401796e+08  4.034784e+09  2.131716e+09  6.614690e+09   \n",
       "2014-12-31    3.277489e+08  2.747512e+09  2.281305e+09  6.878165e+09   \n",
       "2015-12-31    5.326993e+08  1.274390e+09  2.938707e+09  8.843334e+09   \n",
       "2016-12-31    7.705940e+08  8.246171e+08  4.012955e+09  1.289781e+10   \n",
       "2017-12-31    8.173143e+08  6.955102e+08  5.579815e+09  2.192229e+10   \n",
       "2018-12-31    9.175329e+08  1.134613e+09  6.715599e+09  2.580316e+10   \n",
       "2019-12-31    6.406076e+08  1.519286e+09  7.444023e+09  2.776653e+10   \n",
       "\n",
       "                 毛利率         计算毛利率  \n",
       "endDate                             \n",
       "2012-12-31  0.681963  6.819633e+09  \n",
       "2013-12-31  0.677730  6.777300e+09  \n",
       "2014-12-31  0.668327  6.683265e+09  \n",
       "2015-12-31  0.667692  6.676924e+09  \n",
       "2016-12-31  0.688865  6.888654e+09  \n",
       "2017-12-31  0.745473  7.454729e+09  \n",
       "2018-12-31  0.739737  7.397373e+09  \n",
       "2019-12-31  0.731907  7.319067e+09  "
      ]
     },
     "execution_count": 16,
     "metadata": {},
     "output_type": "execute_result"
    }
   ],
   "source": [
    "operating_df"
   ]
  },
  {
   "cell_type": "markdown",
   "metadata": {},
   "source": [
    "### 生产相关资产\n",
    "\n",
    "* 本节谈固定资产、在建工程、工程物资、无形资产、商誉、长期待摊费用和递延所得税资产（负债）等科目。这些资产，主要由每年现金流量表里“购建固定资产、无形资产和其他长期资产支付的现金”累积而成。\n",
    "\n",
    "\n",
    "1. 固定资产\n",
    "\n",
    "    * 除了折旧，固定资产年末（或季度末）还需要进行减值测试。由于资产市价的持续下跌，或技术陈旧、损坏、长期闲置等原因，导致资产可变现价值低于账面价值的，按照差额计提减值准备。减值准备也是要从利润表里扣除的，且一旦计提减值，以后不可以再转回来。\n",
    "    \n",
    "    * 因为折旧算费用，需要从利润表里扣除，会减少当期利润，从而减少当期所得税，所以，优秀的公司一般倾向于使用快速折旧的方法，以增加前期费用，减少前期利润。\n",
    "    \n",
    "    \n",
    "2. 无形资产\n",
    "\n",
    "    * 无形资产，包括专利权、商标权、著作权、土地使用权、特许权、版权和非专利技术等。\n",
    "    \n",
    "    \n",
    "3. 商誉\n",
    "\n",
    "    * 如果你关注的企业常常进行收购活动，那么了解收购活动中有形资产作价是否有失公平，或者自己尝试着将收购造成的商誉，按照资产进行折旧计算，又或者尝试将财报上的商誉去掉，看看公司的负债率是否让你担忧，这些都是一位保守的关注基本面投资者可以做也有必要做的工作。\n",
    "    \n",
    "\n",
    "3. 所得税\n",
    "\n",
    "    * 用明细里“按税法及相关规定计算的当期所得税”数字除以25%，大致可以推算出税务局认定的当年企业税前利润。长期看，这个数据应该和公司净利润保持相对稳定的比例。如果相差较大，就需要投资者警惕公司是否存在大幅调节利润的情况。"
   ]
  },
  {
   "cell_type": "markdown",
   "metadata": {},
   "source": [
    "### 投资相关资产\n",
    "\n",
    "* 本节介绍几种上市公司财报中常见的投资品，主要包括交易性金融资产、持有至到期投资、可供出售金融资产、买入返售金融资产（金融资产还包括贷款及应收款项，上节已有涉及，此节不谈）、长期股权投资和投资性房地产。"
   ]
  },
  {
   "cell_type": "code",
   "execution_count": 21,
   "metadata": {},
   "outputs": [
    {
     "name": "stdout",
     "output_type": "stream",
     "text": [
      "/data/v1/api/fundamental/getFdmtBs2018.json?ticker=600519&secID=&beginDate=20120101&endDate=20191231&publishDateBegin=&publishDateEnd=&reportType=&field=endDate,mergedFlag,tradingFa,htmInvest,availForSaleFa,purResaleFa,investRealEstate\n"
     ]
    }
   ],
   "source": [
    "inve_url = '/api/fundamental/getFdmtBs2018.json?ticker=600519&secID=&beginDate=20120101&endDate=20191231\\\n",
    "&publishDateBegin=&publishDateEnd=&reportType=&field=endDate,mergedFlag,tradingFa,htmInvest,availForSaleFa,purResaleFa,investRealEstate'\n",
    "inve_df = get_data(inve_url)"
   ]
  },
  {
   "cell_type": "code",
   "execution_count": 22,
   "metadata": {},
   "outputs": [
    {
     "data": {
      "text/html": [
       "<div>\n",
       "<style scoped>\n",
       "    .dataframe tbody tr th:only-of-type {\n",
       "        vertical-align: middle;\n",
       "    }\n",
       "\n",
       "    .dataframe tbody tr th {\n",
       "        vertical-align: top;\n",
       "    }\n",
       "\n",
       "    .dataframe thead th {\n",
       "        text-align: right;\n",
       "    }\n",
       "</style>\n",
       "<table border=\"1\" class=\"dataframe\">\n",
       "  <thead>\n",
       "    <tr style=\"text-align: right;\">\n",
       "      <th></th>\n",
       "      <th>availForSaleFa</th>\n",
       "      <th>endDate</th>\n",
       "      <th>htmInvest</th>\n",
       "      <th>mergedFlag</th>\n",
       "      <th>tradingFa</th>\n",
       "    </tr>\n",
       "  </thead>\n",
       "  <tbody>\n",
       "    <tr>\n",
       "      <th>0</th>\n",
       "      <td>NaN</td>\n",
       "      <td>2012-12-31</td>\n",
       "      <td>50000000.0</td>\n",
       "      <td>2</td>\n",
       "      <td>NaN</td>\n",
       "    </tr>\n",
       "    <tr>\n",
       "      <th>1</th>\n",
       "      <td>NaN</td>\n",
       "      <td>2013-12-31</td>\n",
       "      <td>50000000.0</td>\n",
       "      <td>2</td>\n",
       "      <td>NaN</td>\n",
       "    </tr>\n",
       "    <tr>\n",
       "      <th>2</th>\n",
       "      <td>4000000.0</td>\n",
       "      <td>2013-12-31</td>\n",
       "      <td>50000000.0</td>\n",
       "      <td>2</td>\n",
       "      <td>NaN</td>\n",
       "    </tr>\n",
       "    <tr>\n",
       "      <th>3</th>\n",
       "      <td>4000000.0</td>\n",
       "      <td>2014-12-31</td>\n",
       "      <td>50000000.0</td>\n",
       "      <td>2</td>\n",
       "      <td>NaN</td>\n",
       "    </tr>\n",
       "    <tr>\n",
       "      <th>4</th>\n",
       "      <td>29000000.0</td>\n",
       "      <td>2015-12-31</td>\n",
       "      <td>NaN</td>\n",
       "      <td>2</td>\n",
       "      <td>NaN</td>\n",
       "    </tr>\n",
       "    <tr>\n",
       "      <th>5</th>\n",
       "      <td>29000000.0</td>\n",
       "      <td>2016-12-31</td>\n",
       "      <td>NaN</td>\n",
       "      <td>2</td>\n",
       "      <td>NaN</td>\n",
       "    </tr>\n",
       "    <tr>\n",
       "      <th>6</th>\n",
       "      <td>29000000.0</td>\n",
       "      <td>2017-12-31</td>\n",
       "      <td>NaN</td>\n",
       "      <td>2</td>\n",
       "      <td>NaN</td>\n",
       "    </tr>\n",
       "    <tr>\n",
       "      <th>7</th>\n",
       "      <td>29000000.0</td>\n",
       "      <td>2018-12-31</td>\n",
       "      <td>NaN</td>\n",
       "      <td>2</td>\n",
       "      <td>NaN</td>\n",
       "    </tr>\n",
       "    <tr>\n",
       "      <th>8</th>\n",
       "      <td>NaN</td>\n",
       "      <td>2019-12-31</td>\n",
       "      <td>NaN</td>\n",
       "      <td>2</td>\n",
       "      <td>NaN</td>\n",
       "    </tr>\n",
       "  </tbody>\n",
       "</table>\n",
       "</div>"
      ],
      "text/plain": [
       "   availForSaleFa     endDate   htmInvest mergedFlag  tradingFa\n",
       "0             NaN  2012-12-31  50000000.0          2        NaN\n",
       "1             NaN  2013-12-31  50000000.0          2        NaN\n",
       "2       4000000.0  2013-12-31  50000000.0          2        NaN\n",
       "3       4000000.0  2014-12-31  50000000.0          2        NaN\n",
       "4      29000000.0  2015-12-31         NaN          2        NaN\n",
       "5      29000000.0  2016-12-31         NaN          2        NaN\n",
       "6      29000000.0  2017-12-31         NaN          2        NaN\n",
       "7      29000000.0  2018-12-31         NaN          2        NaN\n",
       "8             NaN  2019-12-31         NaN          2        NaN"
      ]
     },
     "execution_count": 22,
     "metadata": {},
     "output_type": "execute_result"
    }
   ],
   "source": [
    "inve_df"
   ]
  },
  {
   "cell_type": "markdown",
   "metadata": {},
   "source": [
    "### 负债和所有者权益\n",
    "\n",
    "1. 负债\n",
    "    * 投资人看负债的角度至少可以有另外两种：一是以负债的来源，分为经营性负债、分配性负债和融资性负债；二是以是否承担利息，分为有息负债和无息负债。\n",
    "    \n",
    "    * 对于分配性负债，有个细节要注意：公司股东大会一旦通过分红方案，该笔分红对应的现金额就会变成一笔分配性负债，报表里就变成公司欠股东的钱，需要从所有者权益（净资产）的“未分配利润”科目，划入负债的“应付股利”科目，使公司的净资产出现大幅下降。这只是个会计数字游戏而已。当你发现公司净资产锐减，请查看一下是不是这个原因。\n",
    "    \n",
    "    * 因而，对于负债这部分，投资人最需要关注的，是企业的现金及现金等价物能否覆盖有息负债，也就是说，如果情况有变，企业现在手头的现金及现金等价物能否偿还债务。其次要关心的，是有息负债占总资产比例。这个因行业而异，最好和同行，尤其是行业内龙头企业对比一下。大幅高于或大幅低于同行，都值得投资者思考一下原因和后果。"
   ]
  },
  {
   "cell_type": "code",
   "execution_count": 72,
   "metadata": {},
   "outputs": [
    {
     "name": "stdout",
     "output_type": "stream",
     "text": [
      "/data/v1/api/fundamental/getFdmtBs2018.json?ticker=600519&secID=&beginDate=20120101&endDate=20191231&publishDateBegin=&publishDateEnd=&reportType=A&field=endDate,mergedFlag,stBorr,ltBorr,bondPayable,tAssets,paidInCapital,capitalReser,surplusReser,retainedEarnings,ltPayableTotal,nclWithin1y\n"
     ]
    }
   ],
   "source": [
    "# 调取负债相关数据\n",
    "debt_url = '/api/fundamental/getFdmtBs2018.json?ticker=600519&secID=&beginDate=20120101&endDate=20191231\\\n",
    "&publishDateBegin=&publishDateEnd=&reportType=A&field=endDate,mergedFlag,stBorr,ltBorr,bondPayable,tAssets,\\\n",
    "paidInCapital,capitalReser,surplusReser,retainedEarnings,ltPayableTotal,nclWithin1y'\n",
    "debt_df = get_data(debt_url)"
   ]
  },
  {
   "cell_type": "code",
   "execution_count": 41,
   "metadata": {},
   "outputs": [
    {
     "name": "stdout",
     "output_type": "stream",
     "text": [
      "/data/v1/api/fundamental/getFdmtCF2018.json?field=&ticker=600519&secID=&beginDate=20120101&endDate=20191231&reportType=A&field=endDate,mergedFlag,nCEEndBal\n"
     ]
    }
   ],
   "source": [
    "# 调取现金及等价物相关数据，便于比较\n",
    "money_url = '/api/fundamental/getFdmtCF2018.json?field=&ticker=600519&secID=&beginDate=20120101&endDate=20191231\\\n",
    "&reportType=A&field=endDate,mergedFlag,nCEEndBal'\n",
    "money_df = get_data(money_url)"
   ]
  },
  {
   "cell_type": "code",
   "execution_count": 33,
   "metadata": {},
   "outputs": [
    {
     "name": "stdout",
     "output_type": "stream",
     "text": [
      "/data/v1/api/fundamental/getFdmtIS2018.json?field=&ticker=600519&secID=&beginDate=20120101&endDate=20191231&field=endDate,mergedFlag,intExp,reportType\n"
     ]
    }
   ],
   "source": [
    "# 调取利息支出相关数据，便于比较\n",
    "interest_url = '/api/fundamental/getFdmtIS2018.json?field=&ticker=600519&secID=&beginDate=20120101&endDate=20191231\\\n",
    "&field=endDate,mergedFlag,intExp,reportType'\n",
    "code, result = client.getData(interest_url)\n",
    "interest_df = pd.DataFrame(eval(result)['data'])\n",
    "interest_df =  interest_df[interest_df['reportType']=='A']\n",
    "interest_df=interest_df[interest_df['mergedFlag']=='1']\n",
    "interest_df.drop_duplicates(keep='last', inplace=True) \n",
    "interest_df= interest_df.sort_values(by = 'endDate')\n",
    "interest_df=interest_df.reset_index(drop=True)\n",
    "interest_df.drop(['mergedFlag','reportType'],axis= 1,inplace = True)"
   ]
  },
  {
   "cell_type": "code",
   "execution_count": 77,
   "metadata": {},
   "outputs": [],
   "source": [
    "# 合并数据\n",
    "debt_df = pd.merge(debt_df,money_df,how ='left')\n",
    "debt_df = pd.merge(debt_df,interest_df,how ='left')\n",
    "debt_df['endDate'] = pd.to_datetime(debt_df['endDate'])\n",
    "debt_df.set_index('endDate',inplace=True)\n",
    "debt_df.columns=['资本公积','长期应付款(合计)','合并报表标识','实收资本','未分配利润','短期借款','盈余公积','总资产','现金及等价物','利息支出']\n",
    "# 空值填充才能便于之后的相加\n",
    "debt_df.fillna(0,inplace= True)"
   ]
  },
  {
   "cell_type": "code",
   "execution_count": 78,
   "metadata": {
    "scrolled": true
   },
   "outputs": [
    {
     "data": {
      "text/plain": [
       "<matplotlib.axes._subplots.AxesSubplot at 0x1c3888f07f0>"
      ]
     },
     "execution_count": 78,
     "metadata": {},
     "output_type": "execute_result"
    },
    {
     "data": {
      "image/png": "[encoded data removed]",
      "text/plain": [
       "<Figure size 432x288 with 1 Axes>"
      ]
     },
     "metadata": {
      "needs_background": "light"
     },
     "output_type": "display_data"
    }
   ],
   "source": [
    "# 有息负债 =长期应付款+短期借款+长期借款+应付债券+应付票据，由于后面3项茅台没有，所以这里没有记录\n",
    "debt_df['有息负债']=debt_df['长期应付款(合计)']+debt_df['短期借款']\n",
    "mpl.rcParams['font.sans-serif'] = ['SimHei']\n",
    "debt_df[['有息负债','利息支出','现金及等价物','总资产']].plot()\n",
    "# 茅台总资产和现金及等价物完全可以支付有息负债，茅台利息支出较多，但是没有有息负债，主要来源于同业存放资金"
   ]
  },
  {
   "cell_type": "markdown",
   "metadata": {},
   "source": [
    "2. 实收资本\n",
    "   * 对于我国的股份公司而言，实收资本也叫“股本”，就是营业执照上的注册资金。它等于股份总数乘以股票面值\n",
    "3. 资本公积\n",
    "   * 资本公积，是股东投入的超过股本的部分，不是由企业利润形成的。因而，资本公积可以用来转增股本，但不能用来分配。\n",
    "4. 盈余公积\n",
    "   * 盈余公积是利润里留下来，继续投入扩大再生产的钱。\n",
    "5. 未分配利润\n",
    "   * 资金自由度高"
   ]
  },
  {
   "cell_type": "code",
   "execution_count": 79,
   "metadata": {},
   "outputs": [
    {
     "data": {
      "text/plain": [
       "<matplotlib.axes._subplots.AxesSubplot at 0x1c3889bf518>"
      ]
     },
     "execution_count": 79,
     "metadata": {},
     "output_type": "execute_result"
    },
    {
     "data": {
      "image/png": "[encoded data removed]",
      "text/plain": [
       "<Figure size 432x288 with 1 Axes>"
      ]
     },
     "metadata": {
      "needs_background": "light"
     },
     "output_type": "display_data"
    }
   ],
   "source": [
    "debt_df[['实收资本','资本公积','盈余公积','未分配利润']].plot()"
   ]
  },
  {
   "cell_type": "markdown",
   "metadata": {},
   "source": [
    "### 资产负债表速读"
   ]
  },
  {
   "cell_type": "code",
   "execution_count": 38,
   "metadata": {},
   "outputs": [
    {
     "name": "stdout",
     "output_type": "stream",
     "text": [
      "/data/v1/api/fundamental/getFdmtBs2018.json?ticker=600519&secID=&beginDate=20120101&endDate=20191231&publishDateBegin=&publishDateEnd=&reportType=A&field=endDate,mergedFlag,tShEquity,tLiabEquity,fixedAssetsTotal,cipTotal,nrAr,notesReceiv,premiumReceiv,reinsurReceiv,reinsurReserReceiv,othReceivTotal,cashCEquiv,tradingFa,availForSaleFa,htmInvest,investRealEstate\n"
     ]
    }
   ],
   "source": [
    "# 获取13-18年茅台的营业成本、营业收入，结合存货进行分析\n",
    "cogs_url = '/api/fundamental/getFdmtBs2018.json?ticker=600519&secID=&beginDate=20120101&endDate=20191231\\\n",
    "&publishDateBegin=&publishDateEnd=&reportType=A&field=endDate,mergedFlag,tShEquity,tLiabEquity,fixedAssetsTotal,\\\n",
    "cipTotal,nrAr,notesReceiv,premiumReceiv,reinsurReceiv,reinsurReserReceiv,othReceivTotal,cashCEquiv,tradingFa,\\\n",
    "availForSaleFa,htmInvest,investRealEstate'\n",
    "cogs_df = get_data(cogs_url)"
   ]
  },
  {
   "cell_type": "code",
   "execution_count": 39,
   "metadata": {},
   "outputs": [
    {
     "name": "stdout",
     "output_type": "stream",
     "text": [
      "/data/v1/api/fundamental/getFdmtISIndu2018.json?ticker=600519&secID=&beginDate=20120101&endDate=20191231&reportType=A&field=endDate,mergedFlag,tProfit,revenue\n"
     ]
    }
   ],
   "source": [
    "profit_url = '/api/fundamental/getFdmtISIndu2018.json?ticker=600519&secID=&beginDate=20120101&endDate=20191231\\\n",
    "&reportType=A&field=endDate,mergedFlag,tProfit,revenue'\n",
    "profit_df = get_data(profit_url)"
   ]
  },
  {
   "cell_type": "code",
   "execution_count": 40,
   "metadata": {},
   "outputs": [],
   "source": [
    "cogs_df=pd.merge(cogs_df,profit_df,how = 'left')\n",
    "cogs_df['endDate'] = pd.to_datetime(cogs_df['endDate'])\n",
    "cogs_df.set_index('endDate',inplace=True)\n",
    "cogs_df.rename(columns={'cashCEquiv':'货币资金',\n",
    "                        'mergedFlag':'合并报表标识',\n",
    "                        'tShEquity':'净资产',\n",
    "                        'fixedAssetsTotal':'固定资产(合计)',\n",
    "                        'cipTotal':'在建工程(合计)',\n",
    "                        'nrAr':'应收票据及应收账款',\n",
    "                        'notesReceiv':'应收票据',\n",
    "                        'tLiabEquity':'负债和所有者权益(或股东权益)总计',\n",
    "                        'othReceivTotal':'其他应收款(合计)',\n",
    "                        'availForSaleFa':'可供出售金融资产',\n",
    "                        'htmInvest':'持有至到期投资',\n",
    "                        'tProfit':'利润总额',\n",
    "                       'revenue':'营业收入'},inplace=True) "
   ]
  },
  {
   "cell_type": "code",
   "execution_count": 41,
   "metadata": {},
   "outputs": [],
   "source": [
    "cogs_df['生产资产']=cogs_df['固定资产(合计)']+cogs_df['在建工程(合计)']\n",
    "def get_asset(x1,x2):\n",
    "    if (x1/x2)>(2*4.35/100):\n",
    "        return '轻资产'\n",
    "    else:\n",
    "        return '重资产'\n",
    "cogs_df['资产类别']= cogs_df.apply(lambda row: get_asset(row['利润总额'],row['生产资产']),axis =1)"
   ]
  },
  {
   "cell_type": "markdown",
   "metadata": {},
   "source": [
    "* 结构分析：轻资产公司优于重资产公司"
   ]
  },
  {
   "cell_type": "code",
   "execution_count": 47,
   "metadata": {},
   "outputs": [
    {
     "data": {
      "text/plain": [
       "<matplotlib.axes._subplots.AxesSubplot at 0x1e9a2c08128>"
      ]
     },
     "execution_count": 47,
     "metadata": {},
     "output_type": "execute_result"
    },
    {
     "data": {
      "image/png": "[encoded data removed]",
      "text/plain": [
       "<Figure size 432x288 with 1 Axes>"
      ]
     },
     "metadata": {
      "needs_background": "light"
     },
     "output_type": "display_data"
    }
   ],
   "source": [
    "cogs_df.fillna(0,inplace = True)\n",
    "cogs_df['应收']=cogs_df['应收票据及应收账款']+cogs_df['其他应收款(合计)']-cogs_df['应收票据']\n",
    "cogs_df['应收/总资产']=(cogs_df['应收'])/cogs_df['负债和所有者权益(或股东权益)总计']\n",
    "cogs_df[['营业收入','应收']].plot()"
   ]
  },
  {
   "cell_type": "markdown",
   "metadata": {},
   "source": [
    "* 如何分析应收与总资产的比例？\n",
    "\n",
    "  1. 第一看是否过大。总资产里过半都是应收款，这公司显然有问题（一般超过三成已经算严重了）。\n",
    "  2. 第二看是否有巨变。正常来说，不应该发生超过营业收入增幅的应收款增幅。\n",
    "  3. 第三看是否有异常。"
   ]
  },
  {
   "cell_type": "code",
   "execution_count": 49,
   "metadata": {},
   "outputs": [
    {
     "data": {
      "text/plain": [
       "<matplotlib.axes._subplots.AxesSubplot at 0x1e9a3d11a90>"
      ]
     },
     "execution_count": 49,
     "metadata": {},
     "output_type": "execute_result"
    },
    {
     "data": {
      "image/png": "[encoded data removed]",
      "text/plain": [
       "<Figure size 432x288 with 1 Axes>"
      ]
     },
     "metadata": {
      "needs_background": "light"
     },
     "output_type": "display_data"
    }
   ],
   "source": [
    "cogs_df['非主业资产/总资产']=(cogs_df['可供出售金融资产']+cogs_df['货币资金']+cogs_df['持有至到期投资'])/cogs_df['负债和所有者权益(或股东权益)总计']\n",
    "cogs_df[['非主业资产/总资产']].plot()"
   ]
  },
  {
   "cell_type": "markdown",
   "metadata": {},
   "source": [
    "* 非主业资产/总资产，是看一个公司是否将注意力放在自己擅长的领域。如果和主业经营无关的资产占比增加，这些信号明显地说明，这家公司管理层在自己的行业内已经很难发现有潜力的投资机会。"
   ]
  },
  {
   "cell_type": "markdown",
   "metadata": {},
   "source": [
    "## 利润表\n",
    "\n",
    "* 市场之所以如此重视利润表，是因为股价由市盈率和每股收益的乘积决定，即P（股价）=PE（市盈率）×E（每股收益）\n",
    "  因为PE=股价÷每股收益，所以这个公式是个永不会错的套套逻辑。但它提供了一个看问题的角度，引导意图获取股票价差的投资人永远关心两个数字：市盈率和每股收益"
   ]
  },
  {
   "cell_type": "code",
   "execution_count": 20,
   "metadata": {},
   "outputs": [
    {
     "name": "stdout",
     "output_type": "stream",
     "text": [
      "/data/v1/api/fundamental/getFdmtISIndu2018.json?ticker=600519&secID=&beginDate=20120101&endDate=20191231&reportType=A&field=endDate,mergedFlag,basicEps,dilutedEps,nIncomeAttrP,investIncome\n"
     ]
    }
   ],
   "source": [
    "eps_url = '/api/fundamental/getFdmtISIndu2018.json?ticker=600519&secID=&beginDate=20120101&endDate=20191231\\\n",
    "&reportType=A&field=endDate,mergedFlag,basicEps,dilutedEps,nIncomeAttrP,investIncome'\n",
    "eps_df = get_data(eps_url)"
   ]
  },
  {
   "cell_type": "code",
   "execution_count": 21,
   "metadata": {},
   "outputs": [],
   "source": [
    "eps_df.rename(columns={ 'mergedFlag':'合并报表标识',\n",
    "                        'basicEps':'基本每股收益',\n",
    "                        'dilutedEps':'稀释每股收益',\n",
    "                        'nIncomeAttrP':'归属于母公司所有者(或股东)的净利润',\n",
    "                        'investIncome':'投资收益'},inplace=True) \n",
    "eps_df['endDate'] = pd.to_datetime(eps_df['endDate'])\n",
    "eps_df.set_index('endDate',inplace=True)"
   ]
  },
  {
   "cell_type": "code",
   "execution_count": 22,
   "metadata": {
    "scrolled": true
   },
   "outputs": [
    {
     "data": {
      "text/html": [
       "<div>\n",
       "<style scoped>\n",
       "    .dataframe tbody tr th:only-of-type {\n",
       "        vertical-align: middle;\n",
       "    }\n",
       "\n",
       "    .dataframe tbody tr th {\n",
       "        vertical-align: top;\n",
       "    }\n",
       "\n",
       "    .dataframe thead th {\n",
       "        text-align: right;\n",
       "    }\n",
       "</style>\n",
       "<table border=\"1\" class=\"dataframe\">\n",
       "  <thead>\n",
       "    <tr style=\"text-align: right;\">\n",
       "      <th></th>\n",
       "      <th>基本每股收益</th>\n",
       "      <th>稀释每股收益</th>\n",
       "      <th>投资收益</th>\n",
       "      <th>合并报表标识</th>\n",
       "      <th>归属于母公司所有者(或股东)的净利润</th>\n",
       "    </tr>\n",
       "    <tr>\n",
       "      <th>endDate</th>\n",
       "      <th></th>\n",
       "      <th></th>\n",
       "      <th></th>\n",
       "      <th></th>\n",
       "      <th></th>\n",
       "    </tr>\n",
       "  </thead>\n",
       "  <tbody>\n",
       "    <tr>\n",
       "      <th>2012-12-31</th>\n",
       "      <td>3.81</td>\n",
       "      <td>3.81</td>\n",
       "      <td>3.726591e+09</td>\n",
       "      <td>2</td>\n",
       "      <td>3.955181e+09</td>\n",
       "    </tr>\n",
       "    <tr>\n",
       "      <th>2013-12-31</th>\n",
       "      <td>10.37</td>\n",
       "      <td>10.37</td>\n",
       "      <td>1.196658e+10</td>\n",
       "      <td>2</td>\n",
       "      <td>1.184369e+10</td>\n",
       "    </tr>\n",
       "    <tr>\n",
       "      <th>2013-12-31</th>\n",
       "      <td>11.41</td>\n",
       "      <td>11.41</td>\n",
       "      <td>1.196658e+10</td>\n",
       "      <td>2</td>\n",
       "      <td>1.184369e+10</td>\n",
       "    </tr>\n",
       "    <tr>\n",
       "      <th>2014-12-31</th>\n",
       "      <td>9.01</td>\n",
       "      <td>9.01</td>\n",
       "      <td>1.074291e+10</td>\n",
       "      <td>2</td>\n",
       "      <td>1.028603e+10</td>\n",
       "    </tr>\n",
       "    <tr>\n",
       "      <th>2014-12-31</th>\n",
       "      <td>8.19</td>\n",
       "      <td>8.19</td>\n",
       "      <td>1.074291e+10</td>\n",
       "      <td>2</td>\n",
       "      <td>1.028603e+10</td>\n",
       "    </tr>\n",
       "    <tr>\n",
       "      <th>2015-12-31</th>\n",
       "      <td>7.65</td>\n",
       "      <td>7.65</td>\n",
       "      <td>9.754198e+09</td>\n",
       "      <td>2</td>\n",
       "      <td>9.611173e+09</td>\n",
       "    </tr>\n",
       "    <tr>\n",
       "      <th>2016-12-31</th>\n",
       "      <td>7.36</td>\n",
       "      <td>7.36</td>\n",
       "      <td>9.637078e+09</td>\n",
       "      <td>2</td>\n",
       "      <td>9.251255e+09</td>\n",
       "    </tr>\n",
       "    <tr>\n",
       "      <th>2017-12-31</th>\n",
       "      <td>8.60</td>\n",
       "      <td>8.60</td>\n",
       "      <td>7.107905e+09</td>\n",
       "      <td>2</td>\n",
       "      <td>1.079946e+10</td>\n",
       "    </tr>\n",
       "    <tr>\n",
       "      <th>2018-12-31</th>\n",
       "      <td>41.62</td>\n",
       "      <td>41.62</td>\n",
       "      <td>4.911530e+10</td>\n",
       "      <td>2</td>\n",
       "      <td>5.228626e+10</td>\n",
       "    </tr>\n",
       "    <tr>\n",
       "      <th>2019-12-31</th>\n",
       "      <td>24.90</td>\n",
       "      <td>24.90</td>\n",
       "      <td>2.856404e+10</td>\n",
       "      <td>2</td>\n",
       "      <td>3.128547e+10</td>\n",
       "    </tr>\n",
       "  </tbody>\n",
       "</table>\n",
       "</div>"
      ],
      "text/plain": [
       "            基本每股收益  稀释每股收益          投资收益 合并报表标识  归属于母公司所有者(或股东)的净利润\n",
       "endDate                                                            \n",
       "2012-12-31    3.81    3.81  3.726591e+09      2        3.955181e+09\n",
       "2013-12-31   10.37   10.37  1.196658e+10      2        1.184369e+10\n",
       "2013-12-31   11.41   11.41  1.196658e+10      2        1.184369e+10\n",
       "2014-12-31    9.01    9.01  1.074291e+10      2        1.028603e+10\n",
       "2014-12-31    8.19    8.19  1.074291e+10      2        1.028603e+10\n",
       "2015-12-31    7.65    7.65  9.754198e+09      2        9.611173e+09\n",
       "2016-12-31    7.36    7.36  9.637078e+09      2        9.251255e+09\n",
       "2017-12-31    8.60    8.60  7.107905e+09      2        1.079946e+10\n",
       "2018-12-31   41.62   41.62  4.911530e+10      2        5.228626e+10\n",
       "2019-12-31   24.90   24.90  2.856404e+10      2        3.128547e+10"
      ]
     },
     "execution_count": 22,
     "metadata": {},
     "output_type": "execute_result"
    }
   ],
   "source": [
    "eps_df"
   ]
  },
  {
   "cell_type": "markdown",
   "metadata": {},
   "source": [
    "### 营业总收入\n",
    "\n",
    "* 营业总收入科目下面，除了营业收入以外的其他三项（利息收入、已赚保费、手续费及佣金收入），是企业涉及金融业务时才需要单独列报的。\n",
    "\n",
    "* 投资者在财报中输入“满足以下条件时确认”进行搜索，能够找到该公司对收入的确认原则。这个规则在我们第一次阅读某公司财报时一定要看。否则利润表对你而言就是一笔糊涂账。\n",
    "\n",
    "* 提供劳务的企业，要么是项目完成后一次性确认收入和费用，要么是采用完工百分比法确认收入和费用。前者简单易懂，后者的操作空间比较大。\n",
    "\n",
    "\n",
    "\n",
    "\n",
    "### 营业总成本\n",
    "* 利润表中的成本和费用，必须是在该期间内为取得收入而发生的成本和费用，会计称之为“配比原则”\n",
    "\n",
    "\n",
    "* 总体来说，销售和管理费用的变化趋势，应该和营业收入变化趋势一致。在企业正常经营，没有重大的合并、收缩等事项的情况下，应该保持比例的大致稳定，以及绝对数与年初预算基本相符（公司每年股东大会时，会提交财务预算报告）。如果变化太大，费用的绝对数额又比较大，那么投资者就需要关注了\n",
    "\n",
    "\n",
    "* 一般就混合看两费的总数在营业收入里所占的比例，看比例的历史变化趋势，看与同行的差异即可\n",
    "\n",
    "\n",
    "* 资产减值损失科目的数字一般为正，果一家公司的资产减值损失科目经常出现或正或负的大额数字，要么是公司调控报表，要么是减值测试水平太烂，都需要投资者提高警惕。\n",
    "\n",
    "\n",
    "\n",
    "\n",
    "### 营业利润\n",
    "\n",
    "* 营业利润是一家企业的核心利润。持续增加的营业利润是企业蒸蒸日上的表现，持续提高的营业利润率（营业利润÷营业总收入）是企业竞争力不断提高的表现。最重要就是看营业利润和营业利润率（营业利润率=营业利润÷营业总收入）。看营业利润及营业利润率的历史变化趋势，以及与同行业其他公司进行对比。她若安好，便是晴天。\n",
    "\n",
    "* 通常而言，如果企业利润的主要部分经常来自营业外收支，基本能肯定，这是企业在打扮自己的报表，背后有陷阱的概率很大，建议投资者警惕且远离。"
   ]
  },
  {
   "cell_type": "code",
   "execution_count": 35,
   "metadata": {},
   "outputs": [
    {
     "name": "stdout",
     "output_type": "stream",
     "text": [
      "/data/v1/api/fundamental/getFdmtISIndu2018.json?ticker=600519&secID=&beginDate=20120101&endDate=20191231&reportType=A&field=endDate,mergedFlag,operateProfit,tRevenue,noperateIncome,noperateExp,assetsImpairLoss,sellExp,adminExp,revenue,cogs,nIncome\n"
     ]
    }
   ],
   "source": [
    "income_url = '/api/fundamental/getFdmtISIndu2018.json?ticker=600519&secID=&beginDate=20120101&endDate=20191231\\\n",
    "&reportType=A&field=endDate,mergedFlag,operateProfit,tRevenue,noperateIncome,noperateExp,assetsImpairLoss,sellExp,adminExp,revenue,cogs,nIncome'\n",
    "income_df = get_data(income_url)"
   ]
  },
  {
   "cell_type": "code",
   "execution_count": 36,
   "metadata": {},
   "outputs": [],
   "source": [
    "income_df['endDate'] = pd.to_datetime(income_df['endDate'])\n",
    "income_df.set_index('endDate',inplace=True)\n",
    "income_df.rename(columns={ 'mergedFlag':'合并报表标识',\n",
    "                           'operateProfit':'营业利润',\n",
    "                           'tRevenue':'营业总收入',\n",
    "                           'noperateIncome':'营业外收入',\n",
    "                           'noperateExp':'营业外支出',\n",
    "                           'revenue':'营业收入',\n",
    "                           'sellExp':'销售费用',\n",
    "                           'adminExp':'管理费用',\n",
    "                           'assetsImpairLoss':'资产减值损失',\n",
    "                           'cogs':'营业成本','nIncome':'净利润'},inplace=True) \n",
    "income_df['两费和']=income_df['销售费用']+income_df['管理费用']\n",
    "income_df['营业利润率']=income_df['营业利润']/income_df['营业总收入']\n",
    "income_df['两费和/营业收入']= income_df['两费和']/income_df['营业总收入']"
   ]
  },
  {
   "cell_type": "code",
   "execution_count": 11,
   "metadata": {},
   "outputs": [
    {
     "data": {
      "image/png": "[encoded data removed]",
      "text/plain": [
       "<Figure size 432x288 with 1 Axes>"
      ]
     },
     "metadata": {
      "needs_background": "light"
     },
     "output_type": "display_data"
    }
   ],
   "source": [
    "mpl.rcParams['font.sans-serif'] = ['SimHei']\n",
    "income_df[['营业利润','营业外收入','营业外支出']].plot()\n",
    "plt.title('营业利润、营业外收支')\n",
    "plt.legend()\n",
    "plt.show()"
   ]
  },
  {
   "cell_type": "code",
   "execution_count": 12,
   "metadata": {},
   "outputs": [
    {
     "data": {
      "image/png": "[encoded data removed]",
      "text/plain": [
       "<Figure size 432x288 with 1 Axes>"
      ]
     },
     "metadata": {
      "needs_background": "light"
     },
     "output_type": "display_data"
    }
   ],
   "source": [
    "income_df[['营业利润率','两费和/营业收入']].plot()\n",
    "plt.title('营业利润率、两费和/营业收入')\n",
    "plt.legend()\n",
    "plt.show()"
   ]
  },
  {
   "cell_type": "code",
   "execution_count": 13,
   "metadata": {},
   "outputs": [
    {
     "data": {
      "text/html": [
       "<div>\n",
       "<style scoped>\n",
       "    .dataframe tbody tr th:only-of-type {\n",
       "        vertical-align: middle;\n",
       "    }\n",
       "\n",
       "    .dataframe tbody tr th {\n",
       "        vertical-align: top;\n",
       "    }\n",
       "\n",
       "    .dataframe thead th {\n",
       "        text-align: right;\n",
       "    }\n",
       "</style>\n",
       "<table border=\"1\" class=\"dataframe\">\n",
       "  <thead>\n",
       "    <tr style=\"text-align: right;\">\n",
       "      <th></th>\n",
       "      <th>管理费用</th>\n",
       "      <th>资产减值损失</th>\n",
       "      <th>营业成本</th>\n",
       "      <th>合并报表标识</th>\n",
       "      <th>营业外支出</th>\n",
       "      <th>营业外收入</th>\n",
       "      <th>营业利润</th>\n",
       "      <th>营业收入</th>\n",
       "      <th>销售费用</th>\n",
       "      <th>营业总收入</th>\n",
       "      <th>两费和</th>\n",
       "      <th>营业利润率</th>\n",
       "      <th>两费和/营业收入</th>\n",
       "    </tr>\n",
       "    <tr>\n",
       "      <th>endDate</th>\n",
       "      <th></th>\n",
       "      <th></th>\n",
       "      <th></th>\n",
       "      <th></th>\n",
       "      <th></th>\n",
       "      <th></th>\n",
       "      <th></th>\n",
       "      <th></th>\n",
       "      <th></th>\n",
       "      <th></th>\n",
       "      <th></th>\n",
       "      <th></th>\n",
       "      <th></th>\n",
       "    </tr>\n",
       "  </thead>\n",
       "  <tbody>\n",
       "    <tr>\n",
       "      <th>2012-12-31</th>\n",
       "      <td>1.825338e+09</td>\n",
       "      <td>2480820.42</td>\n",
       "      <td>1.989734e+09</td>\n",
       "      <td>2</td>\n",
       "      <td>1.889909e+06</td>\n",
       "      <td>814261.78</td>\n",
       "      <td>4.032618e+09</td>\n",
       "      <td>6.256302e+09</td>\n",
       "      <td>6.453054e+07</td>\n",
       "      <td>6.256302e+09</td>\n",
       "      <td>1.889868e+09</td>\n",
       "      <td>0.644569</td>\n",
       "      <td>0.302074</td>\n",
       "    </tr>\n",
       "    <tr>\n",
       "      <th>2013-12-31</th>\n",
       "      <td>2.339455e+09</td>\n",
       "      <td>-2430949.70</td>\n",
       "      <td>2.131716e+09</td>\n",
       "      <td>2</td>\n",
       "      <td>3.020248e+07</td>\n",
       "      <td>29015523.02</td>\n",
       "      <td>1.184763e+10</td>\n",
       "      <td>6.614690e+09</td>\n",
       "      <td>8.348515e+07</td>\n",
       "      <td>6.614690e+09</td>\n",
       "      <td>2.422941e+09</td>\n",
       "      <td>1.791109</td>\n",
       "      <td>0.366297</td>\n",
       "    </tr>\n",
       "    <tr>\n",
       "      <th>2014-12-31</th>\n",
       "      <td>2.900296e+09</td>\n",
       "      <td>213708.77</td>\n",
       "      <td>2.281305e+09</td>\n",
       "      <td>2</td>\n",
       "      <td>8.835361e+07</td>\n",
       "      <td>845886.98</td>\n",
       "      <td>1.037430e+10</td>\n",
       "      <td>6.878165e+09</td>\n",
       "      <td>1.576197e+08</td>\n",
       "      <td>6.878165e+09</td>\n",
       "      <td>3.057916e+09</td>\n",
       "      <td>1.508294</td>\n",
       "      <td>0.444583</td>\n",
       "    </tr>\n",
       "    <tr>\n",
       "      <th>2015-12-31</th>\n",
       "      <td>3.278847e+09</td>\n",
       "      <td>-342878.56</td>\n",
       "      <td>2.938707e+09</td>\n",
       "      <td>2</td>\n",
       "      <td>3.583309e+07</td>\n",
       "      <td>167639.32</td>\n",
       "      <td>9.651777e+09</td>\n",
       "      <td>8.843334e+09</td>\n",
       "      <td>1.687453e+08</td>\n",
       "      <td>8.843334e+09</td>\n",
       "      <td>3.447592e+09</td>\n",
       "      <td>1.091418</td>\n",
       "      <td>0.389852</td>\n",
       "    </tr>\n",
       "    <tr>\n",
       "      <th>2016-12-31</th>\n",
       "      <td>3.434561e+09</td>\n",
       "      <td>246072.17</td>\n",
       "      <td>4.012955e+09</td>\n",
       "      <td>2</td>\n",
       "      <td>1.663466e+08</td>\n",
       "      <td>3648915.30</td>\n",
       "      <td>9.314019e+09</td>\n",
       "      <td>1.289781e+10</td>\n",
       "      <td>2.293981e+08</td>\n",
       "      <td>1.289781e+10</td>\n",
       "      <td>3.663959e+09</td>\n",
       "      <td>0.722139</td>\n",
       "      <td>0.284076</td>\n",
       "    </tr>\n",
       "    <tr>\n",
       "      <th>2017-12-31</th>\n",
       "      <td>3.882476e+09</td>\n",
       "      <td>1020293.44</td>\n",
       "      <td>5.579815e+09</td>\n",
       "      <td>2</td>\n",
       "      <td>6.894241e+07</td>\n",
       "      <td>731087.21</td>\n",
       "      <td>1.209989e+10</td>\n",
       "      <td>2.192229e+10</td>\n",
       "      <td>2.491257e+08</td>\n",
       "      <td>2.192229e+10</td>\n",
       "      <td>4.131602e+09</td>\n",
       "      <td>0.551945</td>\n",
       "      <td>0.188466</td>\n",
       "    </tr>\n",
       "    <tr>\n",
       "      <th>2017-12-31</th>\n",
       "      <td>3.863729e+09</td>\n",
       "      <td>1020293.44</td>\n",
       "      <td>5.579815e+09</td>\n",
       "      <td>2</td>\n",
       "      <td>6.894241e+07</td>\n",
       "      <td>731087.21</td>\n",
       "      <td>1.209989e+10</td>\n",
       "      <td>2.192229e+10</td>\n",
       "      <td>2.491257e+08</td>\n",
       "      <td>2.192229e+10</td>\n",
       "      <td>4.112854e+09</td>\n",
       "      <td>0.551945</td>\n",
       "      <td>0.187611</td>\n",
       "    </tr>\n",
       "    <tr>\n",
       "      <th>2018-12-31</th>\n",
       "      <td>4.306383e+09</td>\n",
       "      <td>821897.56</td>\n",
       "      <td>6.715599e+09</td>\n",
       "      <td>2</td>\n",
       "      <td>3.953018e+08</td>\n",
       "      <td>2134364.40</td>\n",
       "      <td>5.391329e+10</td>\n",
       "      <td>2.580316e+10</td>\n",
       "      <td>1.803019e+08</td>\n",
       "      <td>2.580316e+10</td>\n",
       "      <td>4.486684e+09</td>\n",
       "      <td>2.089407</td>\n",
       "      <td>0.173881</td>\n",
       "    </tr>\n",
       "    <tr>\n",
       "      <th>2018-12-31</th>\n",
       "      <td>4.306383e+09</td>\n",
       "      <td>-821897.56</td>\n",
       "      <td>6.715599e+09</td>\n",
       "      <td>2</td>\n",
       "      <td>3.953018e+08</td>\n",
       "      <td>2134364.40</td>\n",
       "      <td>5.391329e+10</td>\n",
       "      <td>2.580316e+10</td>\n",
       "      <td>1.803019e+08</td>\n",
       "      <td>2.580316e+10</td>\n",
       "      <td>4.486684e+09</td>\n",
       "      <td>2.089407</td>\n",
       "      <td>0.173881</td>\n",
       "    </tr>\n",
       "    <tr>\n",
       "      <th>2019-12-31</th>\n",
       "      <td>4.980762e+09</td>\n",
       "      <td>NaN</td>\n",
       "      <td>7.444023e+09</td>\n",
       "      <td>2</td>\n",
       "      <td>1.516130e+08</td>\n",
       "      <td>1660428.67</td>\n",
       "      <td>3.245678e+10</td>\n",
       "      <td>2.776653e+10</td>\n",
       "      <td>2.236165e+08</td>\n",
       "      <td>2.776653e+10</td>\n",
       "      <td>5.204378e+09</td>\n",
       "      <td>1.168917</td>\n",
       "      <td>0.187433</td>\n",
       "    </tr>\n",
       "  </tbody>\n",
       "</table>\n",
       "</div>"
      ],
      "text/plain": [
       "                    管理费用      资产减值损失          营业成本 合并报表标识         营业外支出  \\\n",
       "endDate                                                                   \n",
       "2012-12-31  1.825338e+09  2480820.42  1.989734e+09      2  1.889909e+06   \n",
       "2013-12-31  2.339455e+09 -2430949.70  2.131716e+09      2  3.020248e+07   \n",
       "2014-12-31  2.900296e+09   213708.77  2.281305e+09      2  8.835361e+07   \n",
       "2015-12-31  3.278847e+09  -342878.56  2.938707e+09      2  3.583309e+07   \n",
       "2016-12-31  3.434561e+09   246072.17  4.012955e+09      2  1.663466e+08   \n",
       "2017-12-31  3.882476e+09  1020293.44  5.579815e+09      2  6.894241e+07   \n",
       "2017-12-31  3.863729e+09  1020293.44  5.579815e+09      2  6.894241e+07   \n",
       "2018-12-31  4.306383e+09   821897.56  6.715599e+09      2  3.953018e+08   \n",
       "2018-12-31  4.306383e+09  -821897.56  6.715599e+09      2  3.953018e+08   \n",
       "2019-12-31  4.980762e+09         NaN  7.444023e+09      2  1.516130e+08   \n",
       "\n",
       "                  营业外收入          营业利润          营业收入          销售费用  \\\n",
       "endDate                                                             \n",
       "2012-12-31    814261.78  4.032618e+09  6.256302e+09  6.453054e+07   \n",
       "2013-12-31  29015523.02  1.184763e+10  6.614690e+09  8.348515e+07   \n",
       "2014-12-31    845886.98  1.037430e+10  6.878165e+09  1.576197e+08   \n",
       "2015-12-31    167639.32  9.651777e+09  8.843334e+09  1.687453e+08   \n",
       "2016-12-31   3648915.30  9.314019e+09  1.289781e+10  2.293981e+08   \n",
       "2017-12-31    731087.21  1.209989e+10  2.192229e+10  2.491257e+08   \n",
       "2017-12-31    731087.21  1.209989e+10  2.192229e+10  2.491257e+08   \n",
       "2018-12-31   2134364.40  5.391329e+10  2.580316e+10  1.803019e+08   \n",
       "2018-12-31   2134364.40  5.391329e+10  2.580316e+10  1.803019e+08   \n",
       "2019-12-31   1660428.67  3.245678e+10  2.776653e+10  2.236165e+08   \n",
       "\n",
       "                   营业总收入           两费和     营业利润率  两费和/营业收入  \n",
       "endDate                                                     \n",
       "2012-12-31  6.256302e+09  1.889868e+09  0.644569  0.302074  \n",
       "2013-12-31  6.614690e+09  2.422941e+09  1.791109  0.366297  \n",
       "2014-12-31  6.878165e+09  3.057916e+09  1.508294  0.444583  \n",
       "2015-12-31  8.843334e+09  3.447592e+09  1.091418  0.389852  \n",
       "2016-12-31  1.289781e+10  3.663959e+09  0.722139  0.284076  \n",
       "2017-12-31  2.192229e+10  4.131602e+09  0.551945  0.188466  \n",
       "2017-12-31  2.192229e+10  4.112854e+09  0.551945  0.187611  \n",
       "2018-12-31  2.580316e+10  4.486684e+09  2.089407  0.173881  \n",
       "2018-12-31  2.580316e+10  4.486684e+09  2.089407  0.173881  \n",
       "2019-12-31  2.776653e+10  5.204378e+09  1.168917  0.187433  "
      ]
     },
     "execution_count": 13,
     "metadata": {},
     "output_type": "execute_result"
    }
   ],
   "source": [
    "income_df"
   ]
  },
  {
   "cell_type": "markdown",
   "metadata": {},
   "source": [
    "### 速读利润表\n",
    "\n",
    "\n",
    "1. 营业收入\n",
    "   *  作为投资者，首选的企业是营业收入增长、增长、增长，过去增长，现在增长，预计在可见的未来将继续保持增长的企业。如果不考虑收购兼并式的增长，企业收入的增长通常有三种途径，即潜在需求增长、市场份额扩大和价格提升。\n",
    "   \n",
    "   * 正因为营业收入的增长可能是因为需求的增长，所以投资者不仅要看企业营业收入绝对数的增长，还要看增速是否高于行业平均水平。只有营业收入增长高于行业平均增长速度，才能证明企业的市场份额在扩大，才能证明企业仍然是行业中的强者。\n",
    "   \n",
    "   * 也有一种特殊的企业，它所面临的某细分市场规模有限，容不下更多的对手参与竞争，而企业已经在这个狭小的市场里建立了相当强的竞争优势。对这种市场里的企业，投资者就无须关注营业收入的增长，而是要重点关注经营所得现金的去向。"
   ]
  },
  {
   "cell_type": "code",
   "execution_count": 12,
   "metadata": {},
   "outputs": [
    {
     "name": "stdout",
     "output_type": "stream",
     "text": [
      "/data/v1/api/equity/getEquIndustry.json?field=&industryVersionCD=010303&industry=&secID=&ticker=600519&intoDate=&industryID1=&industryID2=&industryID3=&equTypeID=&industryID=\n"
     ]
    }
   ],
   "source": [
    "industry_url = '/api/equity/getEquIndustry.json?field=&industryVersionCD=010303&industry=&secID=\\\n",
    "&ticker=600519&intoDate=&industryID1=&industryID2=&industryID3=&equTypeID=&industryID='\n",
    "code, result = client.getData(industry_url)\n",
    "industry_df = pd.DataFrame(eval(result)['data'])"
   ]
  },
  {
   "cell_type": "code",
   "execution_count": 35,
   "metadata": {},
   "outputs": [],
   "source": [
    "spirit_url='/api/fundamental/getFdmtMesoIndu.json?field=&industry=&typeID=010303140201&typeName=&itemID=HBIS0002&beginDate=20120101&endDate=20191231'\n",
    "code, result = client.getData(spirit_url)\n",
    "spirit_df = pd.DataFrame(eval(result)['data'])\n",
    "spirit_df.drop_duplicates(keep='last', inplace=True) \n",
    "spirit_df = spirit_df[spirit_df['endDate'].str.contains('-12-31')]\n",
    "spirit_df= spirit_df.sort_values(by = 'endDate')\n",
    "spirit_df = spirit_df.reset_index(drop=True)\n",
    "spirit_df['endDate'] = pd.to_datetime(spirit_df['endDate'])\n",
    "spirit_df.set_index('endDate',inplace=True)"
   ]
  },
  {
   "cell_type": "code",
   "execution_count": 41,
   "metadata": {},
   "outputs": [],
   "source": [
    "spirit_df = pd.merge(spirit_df[['value']],income_df[['营业收入']],how = 'left', left_index=True, right_index=True)\n",
    "spirit_df['value']=spirit_df['value']*10000"
   ]
  },
  {
   "cell_type": "code",
   "execution_count": 44,
   "metadata": {},
   "outputs": [
    {
     "data": {
      "text/plain": [
       "<matplotlib.axes._subplots.AxesSubplot at 0x2398ddc8ef0>"
      ]
     },
     "execution_count": 44,
     "metadata": {},
     "output_type": "execute_result"
    },
    {
     "data": {
      "image/png": "[encoded data removed]",
      "text/plain": [
       "<Figure size 432x288 with 1 Axes>"
      ]
     },
     "metadata": {
      "needs_background": "light"
     },
     "output_type": "display_data"
    }
   ],
   "source": [
    "spirit_df[['value','营业收入']].plot()"
   ]
  },
  {
   "cell_type": "markdown",
   "metadata": {},
   "source": [
    "2. 毛利率\n",
    "   * 一般来说，毛利率能保持在40%以上的企业，通常都具有某种持续竞争优势。A股中毛利率比较高的行业有信息技术、医药生物、食品饮料、餐饮旅游、文化传播、房地产等，基本也是牛股集中营；毛利率在40%以下的，企业通常处于高度竞争的环境中；至于毛利率低于20%的企业，老唐建议留给艺高胆大的高手或该行业专业人士吧。\n",
    "   * 大体来说，如果费用（销售费用、管理费用及正的财务费用之和）能够控制在毛利润的30%以内，就算是优秀的企业了；在30%～70%区域，仍然是具有一定竞争优势的企业；如果费用超过毛利润的70%，通常而言，关注价"
   ]
  },
  {
   "cell_type": "code",
   "execution_count": 16,
   "metadata": {},
   "outputs": [
    {
     "data": {
      "text/html": [
       "<div>\n",
       "<style scoped>\n",
       "    .dataframe tbody tr th:only-of-type {\n",
       "        vertical-align: middle;\n",
       "    }\n",
       "\n",
       "    .dataframe tbody tr th {\n",
       "        vertical-align: top;\n",
       "    }\n",
       "\n",
       "    .dataframe thead th {\n",
       "        text-align: right;\n",
       "    }\n",
       "</style>\n",
       "<table border=\"1\" class=\"dataframe\">\n",
       "  <thead>\n",
       "    <tr style=\"text-align: right;\">\n",
       "      <th></th>\n",
       "      <th>毛利率</th>\n",
       "      <th>两费和/毛利率</th>\n",
       "    </tr>\n",
       "    <tr>\n",
       "      <th>endDate</th>\n",
       "      <th></th>\n",
       "      <th></th>\n",
       "    </tr>\n",
       "  </thead>\n",
       "  <tbody>\n",
       "    <tr>\n",
       "      <th>2012-12-31</th>\n",
       "      <td>0.681963</td>\n",
       "      <td>0.442948</td>\n",
       "    </tr>\n",
       "    <tr>\n",
       "      <th>2013-12-31</th>\n",
       "      <td>0.677730</td>\n",
       "      <td>0.540476</td>\n",
       "    </tr>\n",
       "    <tr>\n",
       "      <th>2014-12-31</th>\n",
       "      <td>0.668327</td>\n",
       "      <td>0.665218</td>\n",
       "    </tr>\n",
       "    <tr>\n",
       "      <th>2015-12-31</th>\n",
       "      <td>0.667692</td>\n",
       "      <td>0.583880</td>\n",
       "    </tr>\n",
       "    <tr>\n",
       "      <th>2016-12-31</th>\n",
       "      <td>0.688865</td>\n",
       "      <td>0.412382</td>\n",
       "    </tr>\n",
       "    <tr>\n",
       "      <th>2017-12-31</th>\n",
       "      <td>0.745473</td>\n",
       "      <td>0.252814</td>\n",
       "    </tr>\n",
       "    <tr>\n",
       "      <th>2017-12-31</th>\n",
       "      <td>0.745473</td>\n",
       "      <td>0.251667</td>\n",
       "    </tr>\n",
       "    <tr>\n",
       "      <th>2018-12-31</th>\n",
       "      <td>0.739737</td>\n",
       "      <td>0.235058</td>\n",
       "    </tr>\n",
       "    <tr>\n",
       "      <th>2018-12-31</th>\n",
       "      <td>0.739737</td>\n",
       "      <td>0.235058</td>\n",
       "    </tr>\n",
       "    <tr>\n",
       "      <th>2019-12-31</th>\n",
       "      <td>0.731907</td>\n",
       "      <td>0.256089</td>\n",
       "    </tr>\n",
       "  </tbody>\n",
       "</table>\n",
       "</div>"
      ],
      "text/plain": [
       "                 毛利率   两费和/毛利率\n",
       "endDate                       \n",
       "2012-12-31  0.681963  0.442948\n",
       "2013-12-31  0.677730  0.540476\n",
       "2014-12-31  0.668327  0.665218\n",
       "2015-12-31  0.667692  0.583880\n",
       "2016-12-31  0.688865  0.412382\n",
       "2017-12-31  0.745473  0.252814\n",
       "2017-12-31  0.745473  0.251667\n",
       "2018-12-31  0.739737  0.235058\n",
       "2018-12-31  0.739737  0.235058\n",
       "2019-12-31  0.731907  0.256089"
      ]
     },
     "execution_count": 16,
     "metadata": {},
     "output_type": "execute_result"
    }
   ],
   "source": [
    "income_df['毛利率']=(income_df['营业收入']-income_df['营业成本'])/(income_df['营业收入'])\n",
    "income_df['两费和/毛利率']=income_df['两费和']/(income_df['营业收入']-income_df['营业成本'])\n",
    "income_df[['毛利率','两费和/毛利率']]"
   ]
  },
  {
   "cell_type": "code",
   "execution_count": 17,
   "metadata": {},
   "outputs": [
    {
     "data": {
      "text/plain": [
       "<matplotlib.axes._subplots.AxesSubplot at 0x20ed8fe8128>"
      ]
     },
     "execution_count": 17,
     "metadata": {},
     "output_type": "execute_result"
    },
    {
     "data": {
      "image/png": "[encoded data removed]",
      "text/plain": [
       "<Figure size 432x288 with 1 Axes>"
      ]
     },
     "metadata": {
      "needs_background": "light"
     },
     "output_type": "display_data"
    }
   ],
   "source": [
    "income_df[['营业收入','营业成本','营业利润','两费和']].plot()"
   ]
  },
  {
   "cell_type": "markdown",
   "metadata": {},
   "source": [
    "* 还有一步：确认净利润是否变成现金回到公司账户。方法是用现金流量表里的“经营现金流净额”除以利润表的“净利润”，这个比值越大越好，持续大于1是优秀企业的重要特征。它代表企业净利润全部或大部分变成了真实的现金，回到了公司账上"
   ]
  },
  {
   "cell_type": "code",
   "execution_count": 42,
   "metadata": {},
   "outputs": [
    {
     "name": "stdout",
     "output_type": "stream",
     "text": [
      "/data/v1/api/fundamental/getFdmtCF2018.json?field=&ticker=600519&secID=&beginDate=20120101&endDate=20191231&reportType=A&field=endDate,mergedFlag,nCFOperateA\n"
     ]
    }
   ],
   "source": [
    "cf_url = '/api/fundamental/getFdmtCF2018.json?field=&ticker=600519&secID=&beginDate=20120101&endDate=20191231\\\n",
    "&reportType=A&field=endDate,mergedFlag,nCFOperateA'\n",
    "cf_df = get_data(cf_url)"
   ]
  },
  {
   "cell_type": "code",
   "execution_count": 43,
   "metadata": {
    "scrolled": false
   },
   "outputs": [],
   "source": [
    "cf_df['endDate'] = pd.to_datetime(cf_df['endDate'])\n",
    "cf_df.set_index('endDate',inplace=True)\n",
    "cf_df = pd.merge(cf_df[['nCFOperateA']],income_df[['净利润']],how = 'left', left_index=True, right_index=True)\n",
    "cf_df['净利润回流']=cf_df['nCFOperateA']/cf_df['净利润']"
   ]
  },
  {
   "cell_type": "code",
   "execution_count": 44,
   "metadata": {},
   "outputs": [
    {
     "data": {
      "text/html": [
       "<div>\n",
       "<style scoped>\n",
       "    .dataframe tbody tr th:only-of-type {\n",
       "        vertical-align: middle;\n",
       "    }\n",
       "\n",
       "    .dataframe tbody tr th {\n",
       "        vertical-align: top;\n",
       "    }\n",
       "\n",
       "    .dataframe thead th {\n",
       "        text-align: right;\n",
       "    }\n",
       "</style>\n",
       "<table border=\"1\" class=\"dataframe\">\n",
       "  <thead>\n",
       "    <tr style=\"text-align: right;\">\n",
       "      <th></th>\n",
       "      <th>nCFOperateA</th>\n",
       "      <th>净利润</th>\n",
       "      <th>净利润回流</th>\n",
       "    </tr>\n",
       "    <tr>\n",
       "      <th>endDate</th>\n",
       "      <th></th>\n",
       "      <th></th>\n",
       "      <th></th>\n",
       "    </tr>\n",
       "  </thead>\n",
       "  <tbody>\n",
       "    <tr>\n",
       "      <th>2012-12-31</th>\n",
       "      <td>3.180076e+09</td>\n",
       "      <td>3.955181e+09</td>\n",
       "      <td>0.804028</td>\n",
       "    </tr>\n",
       "    <tr>\n",
       "      <th>2013-12-31</th>\n",
       "      <td>9.461377e+09</td>\n",
       "      <td>1.184369e+10</td>\n",
       "      <td>0.798853</td>\n",
       "    </tr>\n",
       "    <tr>\n",
       "      <th>2014-12-31</th>\n",
       "      <td>-2.713989e+09</td>\n",
       "      <td>1.028603e+10</td>\n",
       "      <td>-0.263852</td>\n",
       "    </tr>\n",
       "    <tr>\n",
       "      <th>2015-12-31</th>\n",
       "      <td>1.975006e+09</td>\n",
       "      <td>9.611173e+09</td>\n",
       "      <td>0.205491</td>\n",
       "    </tr>\n",
       "    <tr>\n",
       "      <th>2016-12-31</th>\n",
       "      <td>7.157030e+08</td>\n",
       "      <td>9.251255e+09</td>\n",
       "      <td>0.077363</td>\n",
       "    </tr>\n",
       "    <tr>\n",
       "      <th>2017-12-31</th>\n",
       "      <td>1.565579e+09</td>\n",
       "      <td>1.079946e+10</td>\n",
       "      <td>0.144968</td>\n",
       "    </tr>\n",
       "    <tr>\n",
       "      <th>2017-12-31</th>\n",
       "      <td>1.565579e+09</td>\n",
       "      <td>1.079946e+10</td>\n",
       "      <td>0.144968</td>\n",
       "    </tr>\n",
       "    <tr>\n",
       "      <th>2018-12-31</th>\n",
       "      <td>-1.430446e+09</td>\n",
       "      <td>5.228626e+10</td>\n",
       "      <td>-0.027358</td>\n",
       "    </tr>\n",
       "    <tr>\n",
       "      <th>2018-12-31</th>\n",
       "      <td>-1.430446e+09</td>\n",
       "      <td>5.228626e+10</td>\n",
       "      <td>-0.027358</td>\n",
       "    </tr>\n",
       "    <tr>\n",
       "      <th>2019-12-31</th>\n",
       "      <td>3.808199e+09</td>\n",
       "      <td>3.128547e+10</td>\n",
       "      <td>0.121724</td>\n",
       "    </tr>\n",
       "  </tbody>\n",
       "</table>\n",
       "</div>"
      ],
      "text/plain": [
       "             nCFOperateA           净利润     净利润回流\n",
       "endDate                                         \n",
       "2012-12-31  3.180076e+09  3.955181e+09  0.804028\n",
       "2013-12-31  9.461377e+09  1.184369e+10  0.798853\n",
       "2014-12-31 -2.713989e+09  1.028603e+10 -0.263852\n",
       "2015-12-31  1.975006e+09  9.611173e+09  0.205491\n",
       "2016-12-31  7.157030e+08  9.251255e+09  0.077363\n",
       "2017-12-31  1.565579e+09  1.079946e+10  0.144968\n",
       "2017-12-31  1.565579e+09  1.079946e+10  0.144968\n",
       "2018-12-31 -1.430446e+09  5.228626e+10 -0.027358\n",
       "2018-12-31 -1.430446e+09  5.228626e+10 -0.027358\n",
       "2019-12-31  3.808199e+09  3.128547e+10  0.121724"
      ]
     },
     "execution_count": 44,
     "metadata": {},
     "output_type": "execute_result"
    }
   ],
   "source": [
    "cf_df"
   ]
  }
 ],
 "metadata": {
  "kernelspec": {
   "display_name": "Python 3",
   "language": "python",
   "name": "python3"
  },
  "language_info": {
   "codemirror_mode": {
    "name": "ipython",
    "version": 3
   },
   "file_extension": ".py",
   "mimetype": "text/x-python",
   "name": "python",
   "nbconvert_exporter": "python",
   "pygments_lexer": "ipython3",
   "version": "3.7.1"
  }
 },
 "nbformat": 4,
 "nbformat_minor": 2
}
