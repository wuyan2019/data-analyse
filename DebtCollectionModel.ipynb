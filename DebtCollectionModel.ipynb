{
 "cells": [
  {
   "cell_type": "markdown",
   "metadata": {},
   "source": [
    "# 金融信贷风控模型\n",
    "## 贷后催收模型\n",
    "> 案例数据为美国某p2p公司贷后数据"
   ]
  },
  {
   "cell_type": "markdown",
   "metadata": {},
   "source": [
    "### 1.导入所需模块"
   ]
  },
  {
   "cell_type": "code",
   "execution_count": 2,
   "metadata": {
    "collapsed": false
   },
   "outputs": [],
   "source": [
    "import pandas as pd\n",
    "import numpy as np\n",
    "import matplotlib.pyplot as plt\n",
    "from sklearn.tree import DecisionTreeRegressor\n",
    "from sklearn.model_selection import train_test_split\n",
    "from time import strptime,mktime\n",
    "from datetime import datetime\n",
    "from sklearn.ensemble import RandomForestRegressor\n",
    "from sklearn.model_selection import GridSearchCV\n",
    "from sklearn import cross_validation, metrics\n",
    "%matplotlib inline"
   ]
  },
  {
   "cell_type": "markdown",
   "metadata": {},
   "source": [
    "### 2.设置数据转换方法\n",
    "* 第一个方法将划款率转换成logit形式\n",
    "* 第二个方法为将分类数据变量的缺失转换成unkown\n",
    "* 第三个方法为对连续型变量进行缺失数据填充，方法为预定义的repalcement"
   ]
  },
  {
   "cell_type": "code",
   "execution_count": 4,
   "metadata": {
    "collapsed": true
   },
   "outputs": [],
   "source": [
    "def LogitRR(x):\n",
    "    '''\n",
    "    :param x: 划款率，有的超过1，有的为0.做截断处理\n",
    "    :return: 将还款率转化成logit变换\n",
    "    '''\n",
    "    if x >= 1:\n",
    "        y = 0.9999\n",
    "    elif x == 0:\n",
    "        y = 0.0001\n",
    "    else:\n",
    "        y = x\n",
    "    return np.log(y/(1-y))\n",
    "\n",
    "def MakeupMissingCategorical(x):\n",
    "    if str(x) == 'nan':\n",
    "        return 'Unknown'\n",
    "    else:\n",
    "        return x\n",
    "\n",
    "def MakeupMissingNumerical(x,replacement):\n",
    "    if np.isnan(x):\n",
    "        return replacement\n",
    "    else:\n",
    "        return x"
   ]
  },
  {
   "cell_type": "markdown",
   "metadata": {},
   "source": [
    "### 3.数据读取与查看"
   ]
  },
  {
   "cell_type": "code",
   "execution_count": 6,
   "metadata": {
    "collapsed": false
   },
   "outputs": [],
   "source": [
    "foldOfData = '/home/hk/Documents/MLinLoan/'\n",
    "mydata = pd.read_csv(foldOfData + \"prosperLoanData_chargedoff.csv\",header = 0)"
   ]
  },
  {
   "cell_type": "code",
   "execution_count": 7,
   "metadata": {
    "collapsed": false
   },
   "outputs": [
    {
     "data": {
      "text/html": [
       "<div>\n",
       "<table border=\"1\" class=\"dataframe\">\n",
       "  <thead>\n",
       "    <tr style=\"text-align: right;\">\n",
       "      <th></th>\n",
       "      <th>ListingKey</th>\n",
       "      <th>ListingNumber</th>\n",
       "      <th>ListingCreationDate</th>\n",
       "      <th>CreditGrade</th>\n",
       "      <th>Term</th>\n",
       "      <th>LoanStatus</th>\n",
       "      <th>ClosedDate</th>\n",
       "      <th>BorrowerAPR</th>\n",
       "      <th>BorrowerRate</th>\n",
       "      <th>LenderYield</th>\n",
       "      <th>...</th>\n",
       "      <th>LP_ServiceFees</th>\n",
       "      <th>LP_CollectionFees</th>\n",
       "      <th>LP_GrossPrincipalLoss</th>\n",
       "      <th>LP_NetPrincipalLoss</th>\n",
       "      <th>LP_NonPrincipalRecoverypayments</th>\n",
       "      <th>PercentFunded</th>\n",
       "      <th>Recommendations</th>\n",
       "      <th>InvestmentFromFriendsCount</th>\n",
       "      <th>InvestmentFromFriendsAmount</th>\n",
       "      <th>Investors</th>\n",
       "    </tr>\n",
       "  </thead>\n",
       "  <tbody>\n",
       "    <tr>\n",
       "      <th>0</th>\n",
       "      <td>0DEB351032566848818E832</td>\n",
       "      <td>496566</td>\n",
       "      <td>21:40.3</td>\n",
       "      <td>NaN</td>\n",
       "      <td>36</td>\n",
       "      <td>Chargedoff</td>\n",
       "      <td>2013/9/15 0:00</td>\n",
       "      <td>0.35643</td>\n",
       "      <td>0.3199</td>\n",
       "      <td>0.3099</td>\n",
       "      <td>...</td>\n",
       "      <td>-39.20</td>\n",
       "      <td>0.0</td>\n",
       "      <td>1031.89</td>\n",
       "      <td>1031.89</td>\n",
       "      <td>0.0</td>\n",
       "      <td>1.0</td>\n",
       "      <td>0</td>\n",
       "      <td>0</td>\n",
       "      <td>0.0</td>\n",
       "      <td>50</td>\n",
       "    </tr>\n",
       "    <tr>\n",
       "      <th>1</th>\n",
       "      <td>10F83416199324455232962</td>\n",
       "      <td>292860</td>\n",
       "      <td>04:51.6</td>\n",
       "      <td>HR</td>\n",
       "      <td>36</td>\n",
       "      <td>Chargedoff</td>\n",
       "      <td>2009/2/22 0:00</td>\n",
       "      <td>0.29743</td>\n",
       "      <td>0.2745</td>\n",
       "      <td>0.2645</td>\n",
       "      <td>...</td>\n",
       "      <td>-12.96</td>\n",
       "      <td>0.0</td>\n",
       "      <td>2293.09</td>\n",
       "      <td>2293.09</td>\n",
       "      <td>0.0</td>\n",
       "      <td>1.0</td>\n",
       "      <td>0</td>\n",
       "      <td>0</td>\n",
       "      <td>0.0</td>\n",
       "      <td>67</td>\n",
       "    </tr>\n",
       "    <tr>\n",
       "      <th>2</th>\n",
       "      <td>349134175738976507325F1</td>\n",
       "      <td>308345</td>\n",
       "      <td>33:07.7</td>\n",
       "      <td>B</td>\n",
       "      <td>36</td>\n",
       "      <td>Chargedoff</td>\n",
       "      <td>2008/11/23 0:00</td>\n",
       "      <td>0.15882</td>\n",
       "      <td>0.1445</td>\n",
       "      <td>0.1345</td>\n",
       "      <td>...</td>\n",
       "      <td>-4.13</td>\n",
       "      <td>0.0</td>\n",
       "      <td>2387.70</td>\n",
       "      <td>2387.70</td>\n",
       "      <td>0.0</td>\n",
       "      <td>1.0</td>\n",
       "      <td>0</td>\n",
       "      <td>0</td>\n",
       "      <td>0.0</td>\n",
       "      <td>85</td>\n",
       "    </tr>\n",
       "    <tr>\n",
       "      <th>3</th>\n",
       "      <td>30423527854712576FEBDB0</td>\n",
       "      <td>532077</td>\n",
       "      <td>39:41.2</td>\n",
       "      <td>NaN</td>\n",
       "      <td>36</td>\n",
       "      <td>Chargedoff</td>\n",
       "      <td>2012/5/18 0:00</td>\n",
       "      <td>0.35132</td>\n",
       "      <td>0.3149</td>\n",
       "      <td>0.3049</td>\n",
       "      <td>...</td>\n",
       "      <td>-9.95</td>\n",
       "      <td>0.0</td>\n",
       "      <td>5793.94</td>\n",
       "      <td>5793.94</td>\n",
       "      <td>0.0</td>\n",
       "      <td>1.0</td>\n",
       "      <td>0</td>\n",
       "      <td>0</td>\n",
       "      <td>0.0</td>\n",
       "      <td>2</td>\n",
       "    </tr>\n",
       "    <tr>\n",
       "      <th>4</th>\n",
       "      <td>08E134244479824305E38AA</td>\n",
       "      <td>361026</td>\n",
       "      <td>32:23.2</td>\n",
       "      <td>B</td>\n",
       "      <td>36</td>\n",
       "      <td>Chargedoff</td>\n",
       "      <td>2010/12/10 0:00</td>\n",
       "      <td>0.15377</td>\n",
       "      <td>0.1395</td>\n",
       "      <td>0.1295</td>\n",
       "      <td>...</td>\n",
       "      <td>-58.18</td>\n",
       "      <td>-17.0</td>\n",
       "      <td>1608.01</td>\n",
       "      <td>1608.05</td>\n",
       "      <td>85.0</td>\n",
       "      <td>1.0</td>\n",
       "      <td>0</td>\n",
       "      <td>0</td>\n",
       "      <td>0.0</td>\n",
       "      <td>92</td>\n",
       "    </tr>\n",
       "  </tbody>\n",
       "</table>\n",
       "<p>5 rows × 73 columns</p>\n",
       "</div>"
      ],
      "text/plain": [
       "                ListingKey  ListingNumber ListingCreationDate CreditGrade  \\\n",
       "0  0DEB351032566848818E832         496566             21:40.3         NaN   \n",
       "1  10F83416199324455232962         292860             04:51.6          HR   \n",
       "2  349134175738976507325F1         308345             33:07.7           B   \n",
       "3  30423527854712576FEBDB0         532077             39:41.2         NaN   \n",
       "4  08E134244479824305E38AA         361026             32:23.2           B   \n",
       "\n",
       "   Term  LoanStatus       ClosedDate  BorrowerAPR  BorrowerRate  LenderYield  \\\n",
       "0    36  Chargedoff   2013/9/15 0:00      0.35643        0.3199       0.3099   \n",
       "1    36  Chargedoff   2009/2/22 0:00      0.29743        0.2745       0.2645   \n",
       "2    36  Chargedoff  2008/11/23 0:00      0.15882        0.1445       0.1345   \n",
       "3    36  Chargedoff   2012/5/18 0:00      0.35132        0.3149       0.3049   \n",
       "4    36  Chargedoff  2010/12/10 0:00      0.15377        0.1395       0.1295   \n",
       "\n",
       "     ...      LP_ServiceFees  LP_CollectionFees  LP_GrossPrincipalLoss  \\\n",
       "0    ...              -39.20                0.0                1031.89   \n",
       "1    ...              -12.96                0.0                2293.09   \n",
       "2    ...               -4.13                0.0                2387.70   \n",
       "3    ...               -9.95                0.0                5793.94   \n",
       "4    ...              -58.18              -17.0                1608.01   \n",
       "\n",
       "  LP_NetPrincipalLoss LP_NonPrincipalRecoverypayments PercentFunded  \\\n",
       "0             1031.89                             0.0           1.0   \n",
       "1             2293.09                             0.0           1.0   \n",
       "2             2387.70                             0.0           1.0   \n",
       "3             5793.94                             0.0           1.0   \n",
       "4             1608.05                            85.0           1.0   \n",
       "\n",
       "   Recommendations InvestmentFromFriendsCount InvestmentFromFriendsAmount  \\\n",
       "0                0                          0                         0.0   \n",
       "1                0                          0                         0.0   \n",
       "2                0                          0                         0.0   \n",
       "3                0                          0                         0.0   \n",
       "4                0                          0                         0.0   \n",
       "\n",
       "   Investors  \n",
       "0         50  \n",
       "1         67  \n",
       "2         85  \n",
       "3          2  \n",
       "4         92  \n",
       "\n",
       "[5 rows x 73 columns]"
      ]
     },
     "execution_count": 7,
     "metadata": {},
     "output_type": "execute_result"
    }
   ],
   "source": [
    "mydata.head()"
   ]
  },
  {
   "cell_type": "markdown",
   "metadata": {},
   "source": [
    "### 4.变量预处理\n",
    "> 还款率定义：还款率=催收回款/(所欠本金+利息+催收成本)"
   ]
  },
  {
   "cell_type": "code",
   "execution_count": 8,
   "metadata": {
    "collapsed": true
   },
   "outputs": [],
   "source": [
    "mydata['rec_rate'] = mydata.apply(lambda x: x.LP_NonPrincipalRecoverypayments /(x.AmountDelinquent-x.LP_CollectionFees), axis=1)\n",
    "# 限定还款率最大为1\n",
    "mydata['rec_rate'] = mydata['rec_rate'].map(lambda x: min(x,1))"
   ]
  },
  {
   "cell_type": "markdown",
   "metadata": {},
   "source": [
    "> 数据划分:4/6开"
   ]
  },
  {
   "cell_type": "code",
   "execution_count": 13,
   "metadata": {
    "collapsed": true
   },
   "outputs": [],
   "source": [
    "trainData, testData = train_test_split(mydata,test_size=0.4)"
   ]
  },
  {
   "cell_type": "markdown",
   "metadata": {},
   "source": [
    "> 分类变量&连续变量划分"
   ]
  },
  {
   "cell_type": "code",
   "execution_count": 14,
   "metadata": {
    "collapsed": true
   },
   "outputs": [],
   "source": [
    "categoricalFeatures = ['CreditGrade','Term','BorrowerState','Occupation','EmploymentStatus','IsBorrowerHomeowner','CurrentlyInGroup','IncomeVerifiable']\n",
    "\n",
    "numFeatures = ['BorrowerAPR','BorrowerRate','LenderYield','ProsperRating (numeric)','ProsperScore','ListingCategory (numeric)','EmploymentStatusDuration','CurrentCreditLines',\n",
    "                'OpenCreditLines','TotalCreditLinespast7years','CreditScoreRangeLower','OpenRevolvingAccounts','OpenRevolvingMonthlyPayment','InquiriesLast6Months','TotalInquiries',\n",
    "               'CurrentDelinquencies','DelinquenciesLast7Years','PublicRecordsLast10Years','PublicRecordsLast12Months','BankcardUtilization','TradesNeverDelinquent (percentage)',\n",
    "               'TradesOpenedLast6Months','DebtToIncomeRatio','LoanFirstDefaultedCycleNumber','LoanMonthsSinceOrigination','PercentFunded','Recommendations','InvestmentFromFriendsCount',\n",
    "               'Investors']"
   ]
  },
  {
   "cell_type": "code",
   "execution_count": 17,
   "metadata": {
    "collapsed": false
   },
   "outputs": [
    {
     "data": {
      "text/html": [
       "<div>\n",
       "<table border=\"1\" class=\"dataframe\">\n",
       "  <thead>\n",
       "    <tr style=\"text-align: right;\">\n",
       "      <th></th>\n",
       "      <th>BorrowerAPR</th>\n",
       "      <th>BorrowerRate</th>\n",
       "      <th>LenderYield</th>\n",
       "      <th>ProsperRating (numeric)</th>\n",
       "      <th>ProsperScore</th>\n",
       "      <th>ListingCategory (numeric)</th>\n",
       "      <th>EmploymentStatusDuration</th>\n",
       "      <th>CurrentCreditLines</th>\n",
       "      <th>OpenCreditLines</th>\n",
       "      <th>TotalCreditLinespast7years</th>\n",
       "      <th>...</th>\n",
       "      <th>BankcardUtilization</th>\n",
       "      <th>TradesNeverDelinquent (percentage)</th>\n",
       "      <th>TradesOpenedLast6Months</th>\n",
       "      <th>DebtToIncomeRatio</th>\n",
       "      <th>LoanFirstDefaultedCycleNumber</th>\n",
       "      <th>LoanMonthsSinceOrigination</th>\n",
       "      <th>PercentFunded</th>\n",
       "      <th>Recommendations</th>\n",
       "      <th>InvestmentFromFriendsCount</th>\n",
       "      <th>Investors</th>\n",
       "    </tr>\n",
       "  </thead>\n",
       "  <tbody>\n",
       "    <tr>\n",
       "      <th>count</th>\n",
       "      <td>3046.000000</td>\n",
       "      <td>3046.000000</td>\n",
       "      <td>3046.000000</td>\n",
       "      <td>1126.000000</td>\n",
       "      <td>1126.000000</td>\n",
       "      <td>3046.000000</td>\n",
       "      <td>3046.000000</td>\n",
       "      <td>3046.000000</td>\n",
       "      <td>3046.000000</td>\n",
       "      <td>3046.000000</td>\n",
       "      <td>...</td>\n",
       "      <td>3046.000000</td>\n",
       "      <td>3046.000000</td>\n",
       "      <td>3046.000000</td>\n",
       "      <td>2837.000000</td>\n",
       "      <td>3046.000000</td>\n",
       "      <td>3046.000000</td>\n",
       "      <td>3046.000000</td>\n",
       "      <td>3046.000000</td>\n",
       "      <td>3046.000000</td>\n",
       "      <td>3046.000000</td>\n",
       "    </tr>\n",
       "    <tr>\n",
       "      <th>mean</th>\n",
       "      <td>0.278995</td>\n",
       "      <td>0.256069</td>\n",
       "      <td>0.244253</td>\n",
       "      <td>2.480462</td>\n",
       "      <td>4.760213</td>\n",
       "      <td>2.347997</td>\n",
       "      <td>79.839133</td>\n",
       "      <td>6.940250</td>\n",
       "      <td>6.135916</td>\n",
       "      <td>26.387065</td>\n",
       "      <td>...</td>\n",
       "      <td>0.512850</td>\n",
       "      <td>0.654301</td>\n",
       "      <td>0.931714</td>\n",
       "      <td>0.295139</td>\n",
       "      <td>16.319764</td>\n",
       "      <td>58.279711</td>\n",
       "      <td>0.997769</td>\n",
       "      <td>0.133290</td>\n",
       "      <td>0.056139</td>\n",
       "      <td>67.149376</td>\n",
       "    </tr>\n",
       "    <tr>\n",
       "      <th>std</th>\n",
       "      <td>0.074141</td>\n",
       "      <td>0.067817</td>\n",
       "      <td>0.068459</td>\n",
       "      <td>1.319620</td>\n",
       "      <td>2.097460</td>\n",
       "      <td>3.444284</td>\n",
       "      <td>85.774270</td>\n",
       "      <td>4.786034</td>\n",
       "      <td>4.322763</td>\n",
       "      <td>14.431227</td>\n",
       "      <td>...</td>\n",
       "      <td>0.433415</td>\n",
       "      <td>0.214840</td>\n",
       "      <td>1.346137</td>\n",
       "      <td>0.848312</td>\n",
       "      <td>8.864026</td>\n",
       "      <td>24.489518</td>\n",
       "      <td>0.022633</td>\n",
       "      <td>0.515725</td>\n",
       "      <td>0.282727</td>\n",
       "      <td>71.924813</td>\n",
       "    </tr>\n",
       "    <tr>\n",
       "      <th>min</th>\n",
       "      <td>0.029980</td>\n",
       "      <td>0.010000</td>\n",
       "      <td>0.000000</td>\n",
       "      <td>1.000000</td>\n",
       "      <td>1.000000</td>\n",
       "      <td>0.000000</td>\n",
       "      <td>0.000000</td>\n",
       "      <td>0.000000</td>\n",
       "      <td>0.000000</td>\n",
       "      <td>2.000000</td>\n",
       "      <td>...</td>\n",
       "      <td>0.000000</td>\n",
       "      <td>0.000000</td>\n",
       "      <td>0.000000</td>\n",
       "      <td>0.010000</td>\n",
       "      <td>1.000000</td>\n",
       "      <td>7.000000</td>\n",
       "      <td>0.701300</td>\n",
       "      <td>0.000000</td>\n",
       "      <td>0.000000</td>\n",
       "      <td>1.000000</td>\n",
       "    </tr>\n",
       "    <tr>\n",
       "      <th>25%</th>\n",
       "      <td>0.223635</td>\n",
       "      <td>0.204900</td>\n",
       "      <td>0.190000</td>\n",
       "      <td>1.000000</td>\n",
       "      <td>3.000000</td>\n",
       "      <td>0.000000</td>\n",
       "      <td>19.000000</td>\n",
       "      <td>3.000000</td>\n",
       "      <td>3.000000</td>\n",
       "      <td>16.000000</td>\n",
       "      <td>...</td>\n",
       "      <td>0.030000</td>\n",
       "      <td>0.520000</td>\n",
       "      <td>0.000000</td>\n",
       "      <td>0.110000</td>\n",
       "      <td>9.000000</td>\n",
       "      <td>31.000000</td>\n",
       "      <td>1.000000</td>\n",
       "      <td>0.000000</td>\n",
       "      <td>0.000000</td>\n",
       "      <td>20.000000</td>\n",
       "    </tr>\n",
       "    <tr>\n",
       "      <th>50%</th>\n",
       "      <td>0.291035</td>\n",
       "      <td>0.262750</td>\n",
       "      <td>0.250000</td>\n",
       "      <td>2.000000</td>\n",
       "      <td>5.000000</td>\n",
       "      <td>1.000000</td>\n",
       "      <td>50.000000</td>\n",
       "      <td>6.000000</td>\n",
       "      <td>5.000000</td>\n",
       "      <td>24.000000</td>\n",
       "      <td>...</td>\n",
       "      <td>0.530000</td>\n",
       "      <td>0.680000</td>\n",
       "      <td>1.000000</td>\n",
       "      <td>0.180000</td>\n",
       "      <td>14.000000</td>\n",
       "      <td>70.000000</td>\n",
       "      <td>1.000000</td>\n",
       "      <td>0.000000</td>\n",
       "      <td>0.000000</td>\n",
       "      <td>45.000000</td>\n",
       "    </tr>\n",
       "    <tr>\n",
       "      <th>75%</th>\n",
       "      <td>0.351320</td>\n",
       "      <td>0.315225</td>\n",
       "      <td>0.305225</td>\n",
       "      <td>3.000000</td>\n",
       "      <td>6.000000</td>\n",
       "      <td>3.000000</td>\n",
       "      <td>111.000000</td>\n",
       "      <td>9.000000</td>\n",
       "      <td>8.000000</td>\n",
       "      <td>35.000000</td>\n",
       "      <td>...</td>\n",
       "      <td>0.900000</td>\n",
       "      <td>0.820000</td>\n",
       "      <td>1.000000</td>\n",
       "      <td>0.280000</td>\n",
       "      <td>22.000000</td>\n",
       "      <td>79.000000</td>\n",
       "      <td>1.000000</td>\n",
       "      <td>0.000000</td>\n",
       "      <td>0.000000</td>\n",
       "      <td>87.000000</td>\n",
       "    </tr>\n",
       "    <tr>\n",
       "      <th>max</th>\n",
       "      <td>0.423950</td>\n",
       "      <td>0.360000</td>\n",
       "      <td>0.340000</td>\n",
       "      <td>7.000000</td>\n",
       "      <td>10.000000</td>\n",
       "      <td>20.000000</td>\n",
       "      <td>532.000000</td>\n",
       "      <td>33.000000</td>\n",
       "      <td>31.000000</td>\n",
       "      <td>118.000000</td>\n",
       "      <td>...</td>\n",
       "      <td>2.680000</td>\n",
       "      <td>1.000000</td>\n",
       "      <td>14.000000</td>\n",
       "      <td>10.010000</td>\n",
       "      <td>41.000000</td>\n",
       "      <td>85.000000</td>\n",
       "      <td>1.000000</td>\n",
       "      <td>16.000000</td>\n",
       "      <td>4.000000</td>\n",
       "      <td>635.000000</td>\n",
       "    </tr>\n",
       "  </tbody>\n",
       "</table>\n",
       "<p>8 rows × 29 columns</p>\n",
       "</div>"
      ],
      "text/plain": [
       "       BorrowerAPR  BorrowerRate  LenderYield  ProsperRating (numeric)  \\\n",
       "count  3046.000000   3046.000000  3046.000000              1126.000000   \n",
       "mean      0.278995      0.256069     0.244253                 2.480462   \n",
       "std       0.074141      0.067817     0.068459                 1.319620   \n",
       "min       0.029980      0.010000     0.000000                 1.000000   \n",
       "25%       0.223635      0.204900     0.190000                 1.000000   \n",
       "50%       0.291035      0.262750     0.250000                 2.000000   \n",
       "75%       0.351320      0.315225     0.305225                 3.000000   \n",
       "max       0.423950      0.360000     0.340000                 7.000000   \n",
       "\n",
       "       ProsperScore  ListingCategory (numeric)  EmploymentStatusDuration  \\\n",
       "count   1126.000000                3046.000000               3046.000000   \n",
       "mean       4.760213                   2.347997                 79.839133   \n",
       "std        2.097460                   3.444284                 85.774270   \n",
       "min        1.000000                   0.000000                  0.000000   \n",
       "25%        3.000000                   0.000000                 19.000000   \n",
       "50%        5.000000                   1.000000                 50.000000   \n",
       "75%        6.000000                   3.000000                111.000000   \n",
       "max       10.000000                  20.000000                532.000000   \n",
       "\n",
       "       CurrentCreditLines  OpenCreditLines  TotalCreditLinespast7years  \\\n",
       "count         3046.000000      3046.000000                 3046.000000   \n",
       "mean             6.940250         6.135916                   26.387065   \n",
       "std              4.786034         4.322763                   14.431227   \n",
       "min              0.000000         0.000000                    2.000000   \n",
       "25%              3.000000         3.000000                   16.000000   \n",
       "50%              6.000000         5.000000                   24.000000   \n",
       "75%              9.000000         8.000000                   35.000000   \n",
       "max             33.000000        31.000000                  118.000000   \n",
       "\n",
       "          ...       BankcardUtilization  TradesNeverDelinquent (percentage)  \\\n",
       "count     ...               3046.000000                         3046.000000   \n",
       "mean      ...                  0.512850                            0.654301   \n",
       "std       ...                  0.433415                            0.214840   \n",
       "min       ...                  0.000000                            0.000000   \n",
       "25%       ...                  0.030000                            0.520000   \n",
       "50%       ...                  0.530000                            0.680000   \n",
       "75%       ...                  0.900000                            0.820000   \n",
       "max       ...                  2.680000                            1.000000   \n",
       "\n",
       "       TradesOpenedLast6Months  DebtToIncomeRatio  \\\n",
       "count              3046.000000        2837.000000   \n",
       "mean                  0.931714           0.295139   \n",
       "std                   1.346137           0.848312   \n",
       "min                   0.000000           0.010000   \n",
       "25%                   0.000000           0.110000   \n",
       "50%                   1.000000           0.180000   \n",
       "75%                   1.000000           0.280000   \n",
       "max                  14.000000          10.010000   \n",
       "\n",
       "       LoanFirstDefaultedCycleNumber  LoanMonthsSinceOrigination  \\\n",
       "count                    3046.000000                 3046.000000   \n",
       "mean                       16.319764                   58.279711   \n",
       "std                         8.864026                   24.489518   \n",
       "min                         1.000000                    7.000000   \n",
       "25%                         9.000000                   31.000000   \n",
       "50%                        14.000000                   70.000000   \n",
       "75%                        22.000000                   79.000000   \n",
       "max                        41.000000                   85.000000   \n",
       "\n",
       "       PercentFunded  Recommendations  InvestmentFromFriendsCount    Investors  \n",
       "count    3046.000000      3046.000000                 3046.000000  3046.000000  \n",
       "mean        0.997769         0.133290                    0.056139    67.149376  \n",
       "std         0.022633         0.515725                    0.282727    71.924813  \n",
       "min         0.701300         0.000000                    0.000000     1.000000  \n",
       "25%         1.000000         0.000000                    0.000000    20.000000  \n",
       "50%         1.000000         0.000000                    0.000000    45.000000  \n",
       "75%         1.000000         0.000000                    0.000000    87.000000  \n",
       "max         1.000000        16.000000                    4.000000   635.000000  \n",
       "\n",
       "[8 rows x 29 columns]"
      ]
     },
     "execution_count": 17,
     "metadata": {},
     "output_type": "execute_result"
    }
   ],
   "source": [
    "mydata[numFeatures].describe()"
   ]
  },
  {
   "cell_type": "markdown",
   "metadata": {},
   "source": [
    "> 对分类变量进行编码：编码 = 类别对应的平均还款率"
   ]
  },
  {
   "cell_type": "code",
   "execution_count": 20,
   "metadata": {
    "collapsed": false
   },
   "outputs": [
    {
     "name": "stderr",
     "output_type": "stream",
     "text": [
      "/home/hk/anaconda3/lib/python3.6/site-packages/ipykernel_launcher.py:4: SettingWithCopyWarning: \n",
      "A value is trying to be set on a copy of a slice from a DataFrame.\n",
      "Try using .loc[row_indexer,col_indexer] = value instead\n",
      "\n",
      "See the caveats in the documentation: http://pandas.pydata.org/pandas-docs/stable/indexing.html#indexing-view-versus-copy\n",
      "  after removing the cwd from sys.path.\n",
      "/home/hk/anaconda3/lib/python3.6/site-packages/ipykernel_launcher.py:9: SettingWithCopyWarning: \n",
      "A value is trying to be set on a copy of a slice from a DataFrame.\n",
      "Try using .loc[row_indexer,col_indexer] = value instead\n",
      "\n",
      "See the caveats in the documentation: http://pandas.pydata.org/pandas-docs/stable/indexing.html#indexing-view-versus-copy\n",
      "  if __name__ == '__main__':\n"
     ]
    }
   ],
   "source": [
    "encodedFeatures = []\n",
    "encodedDict = {}\n",
    "for var in categoricalFeatures:\n",
    "    trainData[var] = trainData[var].map(MakeupMissingCategorical)\n",
    "    avgTarget = trainData.groupby([var])['rec_rate'].mean()\n",
    "    avgTarget = avgTarget.to_dict()\n",
    "    newVar = var + '_encoded'\n",
    "    newVarSeries = trainData[var].map(avgTarget)\n",
    "    trainData[newVar] = newVarSeries\n",
    "    encodedFeatures.append(newVar)\n",
    "    encodedDict[var] = avgTarget\n"
   ]
  },
  {
   "cell_type": "code",
   "execution_count": 22,
   "metadata": {
    "collapsed": false
   },
   "outputs": [
    {
     "data": {
      "text/html": [
       "<div>\n",
       "<table border=\"1\" class=\"dataframe\">\n",
       "  <thead>\n",
       "    <tr style=\"text-align: right;\">\n",
       "      <th></th>\n",
       "      <th>CreditGrade_encoded</th>\n",
       "      <th>Term_encoded</th>\n",
       "      <th>BorrowerState_encoded</th>\n",
       "      <th>Occupation_encoded</th>\n",
       "      <th>EmploymentStatus_encoded</th>\n",
       "      <th>IsBorrowerHomeowner_encoded</th>\n",
       "      <th>CurrentlyInGroup_encoded</th>\n",
       "      <th>IncomeVerifiable_encoded</th>\n",
       "    </tr>\n",
       "  </thead>\n",
       "  <tbody>\n",
       "    <tr>\n",
       "      <th>2144</th>\n",
       "      <td>0.074754</td>\n",
       "      <td>0.072245</td>\n",
       "      <td>0.049353</td>\n",
       "      <td>0.053369</td>\n",
       "      <td>0.084543</td>\n",
       "      <td>0.069230</td>\n",
       "      <td>0.085929</td>\n",
       "      <td>0.071543</td>\n",
       "    </tr>\n",
       "    <tr>\n",
       "      <th>695</th>\n",
       "      <td>0.074754</td>\n",
       "      <td>0.072245</td>\n",
       "      <td>0.120636</td>\n",
       "      <td>0.067463</td>\n",
       "      <td>0.084543</td>\n",
       "      <td>0.071725</td>\n",
       "      <td>0.063975</td>\n",
       "      <td>0.071543</td>\n",
       "    </tr>\n",
       "    <tr>\n",
       "      <th>421</th>\n",
       "      <td>0.098356</td>\n",
       "      <td>0.072245</td>\n",
       "      <td>0.047522</td>\n",
       "      <td>0.084872</td>\n",
       "      <td>0.084543</td>\n",
       "      <td>0.071725</td>\n",
       "      <td>0.063975</td>\n",
       "      <td>0.071543</td>\n",
       "    </tr>\n",
       "    <tr>\n",
       "      <th>924</th>\n",
       "      <td>0.074754</td>\n",
       "      <td>0.072245</td>\n",
       "      <td>0.047522</td>\n",
       "      <td>0.073527</td>\n",
       "      <td>0.084543</td>\n",
       "      <td>0.069230</td>\n",
       "      <td>0.063975</td>\n",
       "      <td>0.071543</td>\n",
       "    </tr>\n",
       "    <tr>\n",
       "      <th>742</th>\n",
       "      <td>0.065102</td>\n",
       "      <td>0.072245</td>\n",
       "      <td>0.081897</td>\n",
       "      <td>0.099543</td>\n",
       "      <td>0.084543</td>\n",
       "      <td>0.069230</td>\n",
       "      <td>0.085929</td>\n",
       "      <td>0.071543</td>\n",
       "    </tr>\n",
       "  </tbody>\n",
       "</table>\n",
       "</div>"
      ],
      "text/plain": [
       "      CreditGrade_encoded  Term_encoded  BorrowerState_encoded  \\\n",
       "2144             0.074754      0.072245               0.049353   \n",
       "695              0.074754      0.072245               0.120636   \n",
       "421              0.098356      0.072245               0.047522   \n",
       "924              0.074754      0.072245               0.047522   \n",
       "742              0.065102      0.072245               0.081897   \n",
       "\n",
       "      Occupation_encoded  EmploymentStatus_encoded  \\\n",
       "2144            0.053369                  0.084543   \n",
       "695             0.067463                  0.084543   \n",
       "421             0.084872                  0.084543   \n",
       "924             0.073527                  0.084543   \n",
       "742             0.099543                  0.084543   \n",
       "\n",
       "      IsBorrowerHomeowner_encoded  CurrentlyInGroup_encoded  \\\n",
       "2144                     0.069230                  0.085929   \n",
       "695                      0.071725                  0.063975   \n",
       "421                      0.071725                  0.063975   \n",
       "924                      0.069230                  0.063975   \n",
       "742                      0.069230                  0.085929   \n",
       "\n",
       "      IncomeVerifiable_encoded  \n",
       "2144                  0.071543  \n",
       "695                   0.071543  \n",
       "421                   0.071543  \n",
       "924                   0.071543  \n",
       "742                   0.071543  "
      ]
     },
     "execution_count": 22,
     "metadata": {},
     "output_type": "execute_result"
    }
   ],
   "source": [
    "trainData[encodedFeatures].head()"
   ]
  },
  {
   "cell_type": "markdown",
   "metadata": {},
   "source": [
    "> 对连续变量缺失值进行填充"
   ]
  },
  {
   "cell_type": "code",
   "execution_count": 23,
   "metadata": {
    "collapsed": false
   },
   "outputs": [
    {
     "name": "stderr",
     "output_type": "stream",
     "text": [
      "/home/hk/anaconda3/lib/python3.6/site-packages/ipykernel_launcher.py:1: SettingWithCopyWarning: \n",
      "A value is trying to be set on a copy of a slice from a DataFrame.\n",
      "Try using .loc[row_indexer,col_indexer] = value instead\n",
      "\n",
      "See the caveats in the documentation: http://pandas.pydata.org/pandas-docs/stable/indexing.html#indexing-view-versus-copy\n",
      "  \"\"\"Entry point for launching an IPython kernel.\n",
      "/home/hk/anaconda3/lib/python3.6/site-packages/ipykernel_launcher.py:2: SettingWithCopyWarning: \n",
      "A value is trying to be set on a copy of a slice from a DataFrame.\n",
      "Try using .loc[row_indexer,col_indexer] = value instead\n",
      "\n",
      "See the caveats in the documentation: http://pandas.pydata.org/pandas-docs/stable/indexing.html#indexing-view-versus-copy\n",
      "  \n",
      "/home/hk/anaconda3/lib/python3.6/site-packages/ipykernel_launcher.py:5: SettingWithCopyWarning: \n",
      "A value is trying to be set on a copy of a slice from a DataFrame.\n",
      "Try using .loc[row_indexer,col_indexer] = value instead\n",
      "\n",
      "See the caveats in the documentation: http://pandas.pydata.org/pandas-docs/stable/indexing.html#indexing-view-versus-copy\n",
      "  \"\"\"\n"
     ]
    }
   ],
   "source": [
    "trainData['ProsperRating (numeric)'] = trainData['ProsperRating (numeric)'].map(lambda x: MakeupMissingNumerical(x,0))\n",
    "trainData['ProsperScore'] = trainData['ProsperScore'].map(lambda x: MakeupMissingNumerical(x,0))\n",
    "\n",
    "avgDebtToIncomeRatio = np.mean(trainData['DebtToIncomeRatio'])\n",
    "trainData['DebtToIncomeRatio'] = trainData['DebtToIncomeRatio'].map(lambda x: MakeupMissingNumerical(x,avgDebtToIncomeRatio))"
   ]
  },
  {
   "cell_type": "markdown",
   "metadata": {},
   "source": [
    "### 5.模型开发\n",
    "1.第三步：调参\n",
    ">对基于CART的随机森林的调参，主要有：\n",
    "1，树的个数\n",
    "2，树的最大深度\n",
    "3，内部节点最少样本数与叶节点最少样本数\n",
    "4，特征个数\n",
    "<\n",
    "此外，调参过程中选择的误差函数是均值误差，5倍折叠"
   ]
  },
  {
   "cell_type": "markdown",
   "metadata": {},
   "source": [
    "> 变量选择：将编码后的字符串变量选入训练集\n",
    "> 根据网格搜索法搜索最佳分类器数量：\n",
    "1. 范围{from:10, to:80, step:5}\n",
    "2. 最小样本：50， 叶结点最小样本：10， 最大深度：8， 最大特征：sqrt(k)， 评价方法：mse"
   ]
  },
  {
   "cell_type": "code",
   "execution_count": 24,
   "metadata": {
    "collapsed": true
   },
   "outputs": [],
   "source": [
    "numFeatures2 = numFeatures + encodedFeatures\n",
    "X, y= trainData[numFeatures2],trainData['rec_rate']\n",
    "\n",
    "param_test1 = {'n_estimators':range(10,80,5)}\n",
    "gsearch1 = GridSearchCV(estimator = RandomForestRegressor(min_samples_split=50,min_samples_leaf=10,max_depth=8,max_features='sqrt' ,random_state=10),\n",
    "                       param_grid = param_test1, scoring='neg_mean_squared_error',cv=5)\n",
    "gsearch1.fit(X,y)\n",
    "gsearch1.best_params_, gsearch1.best_score_\n",
    "best_n_estimators = gsearch1.best_params_['n_estimators']"
   ]
  },
  {
   "cell_type": "code",
   "execution_count": 27,
   "metadata": {
    "collapsed": false
   },
   "outputs": [
    {
     "data": {
      "text/plain": [
       "{'n_estimators': 70}"
      ]
     },
     "execution_count": 27,
     "metadata": {},
     "output_type": "execute_result"
    }
   ],
   "source": [
    "gsearch1.best_params_"
   ]
  },
  {
   "cell_type": "markdown",
   "metadata": {},
   "source": [
    "> 运用网格搜索法，搜索其他最佳参数\n",
    "2. 最大深度&最小样本分割\n",
    "3. 最小样本分割&最小叶结点\n",
    "4. 最大特征"
   ]
  },
  {
   "cell_type": "code",
   "execution_count": 28,
   "metadata": {
    "collapsed": true
   },
   "outputs": [],
   "source": [
    "param_test2 = {'max_depth':range(3,21), 'min_samples_split':range(10,100,10)}\n",
    "gsearch2 = GridSearchCV(estimator = RandomForestRegressor(n_estimators=best_n_estimators, min_samples_leaf=10,max_features='sqrt' ,random_state=10,oob_score=True),\n",
    "                       param_grid = param_test2, scoring='neg_mean_squared_error',cv=5)\n",
    "gsearch2.fit(X,y)\n",
    "gsearch2.best_params_, gsearch2.best_score_\n",
    "best_max_depth = gsearch2.best_params_['max_depth']\n",
    "best_min_sample_split = gsearch2.best_params_['min_samples_split']\n",
    "\n",
    "param_test3 = {'min_samples_split':range(50,201,10), 'min_samples_leaf':range(1,20,2)}\n",
    "gsearch3 = GridSearchCV(estimator = RandomForestRegressor(n_estimators=best_n_estimators, max_depth = best_max_depth,max_features='sqrt',random_state=10,oob_score=True),\n",
    "                       param_grid = param_test3, scoring='neg_mean_squared_error',cv=5)\n",
    "gsearch3.fit(X,y)\n",
    "gsearch3.best_params_, gsearch3.best_score_\n",
    "best_min_samples_leaf = gsearch3.best_params_['min_samples_leaf']\n",
    "best_min_samples_split = gsearch3.best_params_['min_samples_split']\n"
   ]
  },
  {
   "cell_type": "code",
   "execution_count": 30,
   "metadata": {
    "collapsed": false
   },
   "outputs": [],
   "source": [
    "numOfFeatures = len(numFeatures2)\n",
    "mostSelectedFeatures = numOfFeatures/2\n",
    "param_test4 = {'max_features':range(3,numOfFeatures+1)}\n",
    "gsearch4 = GridSearchCV(estimator = RandomForestRegressor(n_estimators=best_n_estimators, max_depth=best_max_depth,min_samples_leaf=best_min_samples_leaf,\n",
    "                                                          min_samples_split=best_min_samples_split,random_state=10,oob_score=True),\n",
    "                       param_grid = param_test4, scoring='neg_mean_squared_error',cv=5)\n",
    "gsearch4.fit(X,y)\n",
    "gsearch4.best_params_, gsearch4.best_score_\n",
    "best_max_features = gsearch4.best_params_['max_features']"
   ]
  },
  {
   "cell_type": "code",
   "execution_count": 32,
   "metadata": {
    "collapsed": false
   },
   "outputs": [
    {
     "name": "stdout",
     "output_type": "stream",
     "text": [
      "{'max_depth': 11, 'min_samples_split': 10}\n",
      "{'n_estimators': 70}\n",
      "{'min_samples_leaf': 1, 'min_samples_split': 60}\n",
      "{'max_features': 10}\n"
     ]
    }
   ],
   "source": [
    "print(gsearch2.best_params_)\n",
    "print(gsearch1.best_params_)\n",
    "print(gsearch3.best_params_)\n",
    "print(gsearch4.best_params_)"
   ]
  },
  {
   "cell_type": "code",
   "execution_count": 33,
   "metadata": {
    "collapsed": false
   },
   "outputs": [
    {
     "name": "stdout",
     "output_type": "stream",
     "text": [
      "最佳深度: 11\n",
      "最佳深度: 70\n",
      "最小叶结点样本：1\n",
      "最小样本分割： 60\n",
      "最大特征: 10.00\n"
     ]
    }
   ],
   "source": [
    "print('最佳深度: %d' % best_max_depth)\n",
    "print('最佳深度: %d' % best_n_estimators)\n",
    "print('最小叶结点样本：%d' % best_min_samples_leaf)\n",
    "print('最小样本分割： %d' % best_min_samples_split)\n",
    "print('最大特征: %.2f' % best_max_features)"
   ]
  },
  {
   "cell_type": "markdown",
   "metadata": {},
   "source": [
    "> 根据之前训练得到的最佳参数拟合模型"
   ]
  },
  {
   "cell_type": "code",
   "execution_count": 35,
   "metadata": {
    "collapsed": false
   },
   "outputs": [
    {
     "data": {
      "text/plain": [
       "RandomForestRegressor(bootstrap=True, criterion='mse', max_depth=11,\n",
       "           max_features=10, max_leaf_nodes=None, min_impurity_decrease=0.0,\n",
       "           min_impurity_split=None, min_samples_leaf=1,\n",
       "           min_samples_split=60, min_weight_fraction_leaf=0.0,\n",
       "           n_estimators=70, n_jobs=1, oob_score=True, random_state=10,\n",
       "           verbose=0, warm_start=False)"
      ]
     },
     "execution_count": 35,
     "metadata": {},
     "output_type": "execute_result"
    }
   ],
   "source": [
    "cls = RandomForestRegressor(n_estimators=best_n_estimators,\n",
    "                            max_depth=best_max_depth,\n",
    "                            min_samples_leaf=best_min_samples_leaf,\n",
    "                            min_samples_split=best_min_samples_split,\n",
    "                            max_features=best_max_features,\n",
    "                            random_state=10,\n",
    "                            oob_score=True)\n",
    "cls.fit(X,y)"
   ]
  },
  {
   "cell_type": "markdown",
   "metadata": {},
   "source": [
    "> 预测结果输出，并比较预测结果与真实还款情况\n",
    "* 输出预测结果高于真实情况的比率\n",
    "* 输出预测与真实结果的mae"
   ]
  },
  {
   "cell_type": "code",
   "execution_count": 37,
   "metadata": {
    "collapsed": false
   },
   "outputs": [
    {
     "name": "stderr",
     "output_type": "stream",
     "text": [
      "/home/hk/anaconda3/lib/python3.6/site-packages/ipykernel_launcher.py:1: SettingWithCopyWarning: \n",
      "A value is trying to be set on a copy of a slice from a DataFrame.\n",
      "Try using .loc[row_indexer,col_indexer] = value instead\n",
      "\n",
      "See the caveats in the documentation: http://pandas.pydata.org/pandas-docs/stable/indexing.html#indexing-view-versus-copy\n",
      "  \"\"\"Entry point for launching an IPython kernel.\n"
     ]
    },
    {
     "name": "stdout",
     "output_type": "stream",
     "text": [
      "0.8741105637657361\n",
      "0.0961360763057952\n"
     ]
    },
    {
     "name": "stderr",
     "output_type": "stream",
     "text": [
      "/home/hk/anaconda3/lib/python3.6/site-packages/ipykernel_launcher.py:2: SettingWithCopyWarning: \n",
      "A value is trying to be set on a copy of a slice from a DataFrame.\n",
      "Try using .loc[row_indexer,col_indexer] = value instead\n",
      "\n",
      "See the caveats in the documentation: http://pandas.pydata.org/pandas-docs/stable/indexing.html#indexing-view-versus-copy\n",
      "  \n"
     ]
    }
   ],
   "source": [
    "trainData['pred'] = cls.predict(trainData[numFeatures2])\n",
    "trainData['less_rr'] = trainData.apply(lambda x: int(x.pred > x.rec_rate), axis=1)\n",
    "print(np.mean(trainData['less_rr']))\n",
    "err = trainData.apply(lambda x: np.abs(x.pred - x.rec_rate), axis=1)\n",
    "print(np.mean(err))"
   ]
  },
  {
   "cell_type": "markdown",
   "metadata": {},
   "source": [
    "### 6.模型验证\n",
    "* 输出预测结果高于真实情况的比率\n",
    "* 输出预测与真实结果的mae"
   ]
  },
  {
   "cell_type": "code",
   "execution_count": 38,
   "metadata": {
    "collapsed": false
   },
   "outputs": [
    {
     "name": "stderr",
     "output_type": "stream",
     "text": [
      "/home/hk/anaconda3/lib/python3.6/site-packages/ipykernel_launcher.py:3: SettingWithCopyWarning: \n",
      "A value is trying to be set on a copy of a slice from a DataFrame.\n",
      "Try using .loc[row_indexer,col_indexer] = value instead\n",
      "\n",
      "See the caveats in the documentation: http://pandas.pydata.org/pandas-docs/stable/indexing.html#indexing-view-versus-copy\n",
      "  This is separate from the ipykernel package so we can avoid doing imports until\n",
      "/home/hk/anaconda3/lib/python3.6/site-packages/ipykernel_launcher.py:5: SettingWithCopyWarning: \n",
      "A value is trying to be set on a copy of a slice from a DataFrame.\n",
      "Try using .loc[row_indexer,col_indexer] = value instead\n",
      "\n",
      "See the caveats in the documentation: http://pandas.pydata.org/pandas-docs/stable/indexing.html#indexing-view-versus-copy\n",
      "  \"\"\"\n",
      "/home/hk/anaconda3/lib/python3.6/site-packages/ipykernel_launcher.py:7: SettingWithCopyWarning: \n",
      "A value is trying to be set on a copy of a slice from a DataFrame.\n",
      "Try using .loc[row_indexer,col_indexer] = value instead\n",
      "\n",
      "See the caveats in the documentation: http://pandas.pydata.org/pandas-docs/stable/indexing.html#indexing-view-versus-copy\n",
      "  import sys\n",
      "/home/hk/anaconda3/lib/python3.6/site-packages/ipykernel_launcher.py:10: SettingWithCopyWarning: \n",
      "A value is trying to be set on a copy of a slice from a DataFrame.\n",
      "Try using .loc[row_indexer,col_indexer] = value instead\n",
      "\n",
      "See the caveats in the documentation: http://pandas.pydata.org/pandas-docs/stable/indexing.html#indexing-view-versus-copy\n",
      "  # Remove the CWD from sys.path while we load stuff.\n",
      "/home/hk/anaconda3/lib/python3.6/site-packages/ipykernel_launcher.py:11: SettingWithCopyWarning: \n",
      "A value is trying to be set on a copy of a slice from a DataFrame.\n",
      "Try using .loc[row_indexer,col_indexer] = value instead\n",
      "\n",
      "See the caveats in the documentation: http://pandas.pydata.org/pandas-docs/stable/indexing.html#indexing-view-versus-copy\n",
      "  # This is added back by InteractiveShellApp.init_path()\n",
      "/home/hk/anaconda3/lib/python3.6/site-packages/ipykernel_launcher.py:12: SettingWithCopyWarning: \n",
      "A value is trying to be set on a copy of a slice from a DataFrame.\n",
      "Try using .loc[row_indexer,col_indexer] = value instead\n",
      "\n",
      "See the caveats in the documentation: http://pandas.pydata.org/pandas-docs/stable/indexing.html#indexing-view-versus-copy\n",
      "  if sys.path[0] == '':\n",
      "/home/hk/anaconda3/lib/python3.6/site-packages/ipykernel_launcher.py:14: SettingWithCopyWarning: \n",
      "A value is trying to be set on a copy of a slice from a DataFrame.\n",
      "Try using .loc[row_indexer,col_indexer] = value instead\n",
      "\n",
      "See the caveats in the documentation: http://pandas.pydata.org/pandas-docs/stable/indexing.html#indexing-view-versus-copy\n",
      "  \n"
     ]
    },
    {
     "name": "stdout",
     "output_type": "stream",
     "text": [
      "0.8679245283018868\n",
      "0.1154566325452688\n"
     ]
    },
    {
     "name": "stderr",
     "output_type": "stream",
     "text": [
      "/home/hk/anaconda3/lib/python3.6/site-packages/ipykernel_launcher.py:15: SettingWithCopyWarning: \n",
      "A value is trying to be set on a copy of a slice from a DataFrame.\n",
      "Try using .loc[row_indexer,col_indexer] = value instead\n",
      "\n",
      "See the caveats in the documentation: http://pandas.pydata.org/pandas-docs/stable/indexing.html#indexing-view-versus-copy\n",
      "  from ipykernel import kernelapp as app\n"
     ]
    }
   ],
   "source": [
    "# 对测试数据中的字符串变量运用同样的方法进行编码\n",
    "for var in categoricalFeatures:\n",
    "    testData[var] = testData[var].map(MakeupMissingCategorical)\n",
    "    newVar = var + '_encoded'\n",
    "    testData[newVar] = testData[var].map(encodedDict[var])\n",
    "    avgnewVar = np.mean(trainData[newVar])\n",
    "    testData[newVar] = testData[newVar].map(lambda x: MakeupMissingNumerical(x, avgnewVar))\n",
    "\n",
    "# 对测试数据中的连续变量运用同样的方法进行缺值填补\n",
    "testData['ProsperRating (numeric)'] = testData['ProsperRating (numeric)'].map(lambda x: MakeupMissingNumerical(x,0))\n",
    "testData['ProsperScore'] = testData['ProsperScore'].map(lambda x: MakeupMissingNumerical(x,0))\n",
    "testData['DebtToIncomeRatio'] = testData['DebtToIncomeRatio'].map(lambda x: MakeupMissingNumerical(x,avgDebtToIncomeRatio))\n",
    "\n",
    "testData['pred'] = cls.predict(testData[numFeatures2])\n",
    "testData['less_rr'] = testData.apply(lambda x: int(x.pred > x.rec_rate), axis=1)\n",
    "print(np.mean(testData['less_rr']))\n",
    "err = testData.apply(lambda x: np.abs(x.pred - x.rec_rate), axis=1)\n",
    "print(np.mean(err))"
   ]
  },
  {
   "cell_type": "code",
   "execution_count": null,
   "metadata": {
    "collapsed": true
   },
   "outputs": [],
   "source": []
  }
 ],
 "metadata": {
  "kernelspec": {
   "display_name": "Python 3",
   "language": "python",
   "name": "python3"
  },
  "language_info": {
   "codemirror_mode": {
    "name": "ipython",
    "version": 3
   },
   "file_extension": ".py",
   "mimetype": "text/x-python",
   "name": "python",
   "nbconvert_exporter": "python",
   "pygments_lexer": "ipython3",
   "version": "3.6.0"
  }
 },
 "nbformat": 4,
 "nbformat_minor": 2
}
